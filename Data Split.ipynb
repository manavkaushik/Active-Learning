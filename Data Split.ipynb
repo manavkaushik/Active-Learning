{
  "nbformat": 4,
  "nbformat_minor": 0,
  "metadata": {
    "colab": {
      "name": "Q1_a",
      "provenance": []
    },
    "kernelspec": {
      "name": "python3",
      "display_name": "Python 3"
    }
  },
  "cells": [
    {
      "cell_type": "markdown",
      "metadata": {
        "id": "1WRmYYNbL9vJ",
        "colab_type": "text"
      },
      "source": [
        "# Active Learning: Q1 (a)"
      ]
    },
    {
      "cell_type": "code",
      "metadata": {
        "id": "ZhB2fiQiK6X6",
        "colab_type": "code",
        "outputId": "f737ec24-a479-4461-cd16-52dcb287aa0a",
        "colab": {
          "base_uri": "https://localhost:8080/",
          "height": 53
        }
      },
      "source": [
        "''' Q1(a): Convert a supervised learning problem (multiclass classification – having more\n",
        "than 3 classes) into an Active Learning problem by randomly removing class labels\n",
        "of data points (retain only 10% of labelled points). The removed labelled points\n",
        "will work as a human oracle!! '''\n",
        "\n",
        "\n"
      ],
      "execution_count": 0,
      "outputs": [
        {
          "output_type": "execute_result",
          "data": {
            "text/plain": [
              "' Q1(a): Convert a supervised learning problem (multiclass classification – having more\\nthan 3 classes) into an Active Learning problem by randomly removing class labels\\nof data points (retain only 10% of labelled points). The removed labelled points\\nwill work as a human oracle!! '"
            ]
          },
          "metadata": {
            "tags": []
          },
          "execution_count": 1
        }
      ]
    },
    {
      "cell_type": "markdown",
      "metadata": {
        "id": "sIrh2b7WLYtW",
        "colab_type": "text"
      },
      "source": [
        "Dataset Used: **load_digits**\n",
        "\n",
        "This is a dataset representing handwritten digits (from 0 to 9).\n",
        "\n",
        "The following are the details of the dataset:\n",
        "\n",
        "\n",
        "*   Number of attributes/ features = **64** (8x8)\n",
        "*   Number of classes = **10** (0 to 9)\n",
        "*   Size of dataset (Number of data points) = **1797**\n",
        "\n",
        "\n",
        "\n"
      ]
    },
    {
      "cell_type": "code",
      "metadata": {
        "id": "hIxlSPRaLx4h",
        "colab_type": "code",
        "colab": {}
      },
      "source": [
        "# Importing required libraries\n",
        "\n",
        "import numpy as np \n",
        "import pandas as pd \n",
        "from sklearn.model_selection import train_test_split \n",
        "from sklearn import datasets\n",
        "import matplotlib.pyplot as plt\n",
        "\n",
        "from warnings import simplefilter\n",
        "# ignore all future warnings\n",
        "simplefilter(action='ignore', category=FutureWarning)"
      ],
      "execution_count": 0,
      "outputs": []
    },
    {
      "cell_type": "code",
      "metadata": {
        "id": "pdQAxBu8Mcsr",
        "colab_type": "code",
        "outputId": "b3fca34a-70a5-4170-d724-720feb2c5319",
        "colab": {
          "base_uri": "https://localhost:8080/",
          "height": 67
        }
      },
      "source": [
        "# Analysis of our chosen dataset\n",
        "\n",
        "X_digits, y_digits = datasets.load_digits(return_X_y=True)\n",
        "dataset = np.vstack((X_digits.T, y_digits.T)).T\n",
        "\n",
        "print('Shape of the Dataset: ' + str(dataset.shape))\n",
        "print('Shape of the Feature array (X): ' + str(X_digits.shape))\n",
        "print('Shape of the Label array (Y): ' + str(y_digits.shape))\n"
      ],
      "execution_count": 0,
      "outputs": [
        {
          "output_type": "stream",
          "text": [
            "Shape of the Dataset: (1797, 65)\n",
            "Shape of the Feature array (X): (1797, 64)\n",
            "Shape of the Label array (Y): (1797,)\n"
          ],
          "name": "stdout"
        }
      ]
    },
    {
      "cell_type": "code",
      "metadata": {
        "id": "w4CC2ApaBcmM",
        "colab_type": "code",
        "outputId": "d3a0bab0-b686-4aab-c033-cbacd1b86ff7",
        "colab": {
          "base_uri": "https://localhost:8080/",
          "height": 808
        }
      },
      "source": [
        "# VISUALIZING DATA\n",
        "\n",
        "digits = datasets.load_digits()\n",
        "#print(digits.data.shape)\n",
        "\n",
        "plt.gray() \n",
        "plt.matshow(digits.images[0]) \n",
        "plt.matshow(digits.images[100])\n",
        "plt.matshow(digits.images[1000])\n",
        "plt.show() "
      ],
      "execution_count": 0,
      "outputs": [
        {
          "output_type": "display_data",
          "data": {
            "text/plain": [
              "<Figure size 432x288 with 0 Axes>"
            ]
          },
          "metadata": {
            "tags": []
          }
        },
        {
          "output_type": "display_data",
          "data": {
            "image/png": "[encoded data removed]",
            "text/plain": [
              "<Figure size 288x288 with 1 Axes>"
            ]
          },
          "metadata": {
            "tags": [],
            "needs_background": "light"
          }
        },
        {
          "output_type": "display_data",
          "data": {
            "image/png": "[encoded data removed]",
            "text/plain": [
              "<Figure size 288x288 with 1 Axes>"
            ]
          },
          "metadata": {
            "tags": [],
            "needs_background": "light"
          }
        },
        {
          "output_type": "display_data",
          "data": {
            "image/png": "[encoded data removed]",
            "text/plain": [
              "<Figure size 288x288 with 1 Axes>"
            ]
          },
          "metadata": {
            "tags": [],
            "needs_background": "light"
          }
        }
      ]
    },
    {
      "cell_type": "code",
      "metadata": {
        "id": "gxvCHtejMSGG",
        "colab_type": "code",
        "colab": {}
      },
      "source": [
        "# splitting function for splitting dataset into test set, train set and unlabel pool\n",
        "\n",
        "def split(dataset, train_size, test_size): \n",
        "\tx = dataset[:, :-1] \n",
        "\ty = dataset[:, -1] \n",
        "\tx_train, x_pool, y_train, y_pool = train_test_split( \n",
        "\t\tx, y, train_size = train_size) \n",
        "\tunlabel, x_test, label, y_test = train_test_split( \n",
        "\t\tx_pool, y_pool, test_size = test_size) \n",
        "\treturn x_train, y_train, x_test, y_test, unlabel, label"
      ],
      "execution_count": 0,
      "outputs": []
    },
    {
      "cell_type": "code",
      "metadata": {
        "id": "0h936QKvN5Gi",
        "colab_type": "code",
        "outputId": "cc6d634d-0652-42fe-a4b0-6ec5f30ab948",
        "colab": {
          "base_uri": "https://localhost:8080/",
          "height": 67
        }
      },
      "source": [
        "# calling the splitting function\n",
        "\n",
        "train_size = 0.10\n",
        "test_size = 0.20\n",
        "\n",
        "x_train, y_train, x_test, y_test, unlabel, label = split(dataset, train_size, test_size)\n",
        "\n",
        "print('Number of training data points: ' + str(x_train.shape[0]))\n",
        "print('Number of test data points: ' + str(x_test.shape[0]))\n",
        "print('Number of unlabelled data points: ' + str(unlabel.shape[0]))"
      ],
      "execution_count": 0,
      "outputs": [
        {
          "output_type": "stream",
          "text": [
            "Number of training data points: 179\n",
            "Number of test data points: 324\n",
            "Number of unlabelled data points: 1294\n"
          ],
          "name": "stdout"
        }
      ]
    },
    {
      "cell_type": "markdown",
      "metadata": {
        "id": "cXWdF_cKOi_K",
        "colab_type": "text"
      },
      "source": [
        "END OF Q1(a). \n",
        "\n",
        "Now we can jump into further details of ACTIVE LEARNING in the next parts of the question."
      ]
    }
  ]
}