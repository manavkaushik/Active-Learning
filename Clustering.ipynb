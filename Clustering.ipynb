{
  "nbformat": 4,
  "nbformat_minor": 0,
  "metadata": {
    "colab": {
      "name": "Q1_b_v",
      "provenance": []
    },
    "kernelspec": {
      "name": "python3",
      "display_name": "Python 3"
    }
  },
  "cells": [
    {
      "cell_type": "markdown",
      "metadata": {
        "id": "BYPtN5saek5F",
        "colab_type": "text"
      },
      "source": [
        "# Active Learning: Q1 (b): v"
      ]
    },
    {
      "cell_type": "code",
      "metadata": {
        "id": "La09TbkAexI4",
        "colab_type": "code",
        "outputId": "46dc5049-c18d-4851-9bf1-da4ebb00aa75",
        "colab": {
          "base_uri": "https://localhost:8080/",
          "height": 53
        }
      },
      "source": [
        "'''\n",
        "Q1(b)v:\n",
        "From 90% of unlabelled points, randomly pick 40% of the points and use\n",
        "clustering (using K-means with K=number of class labels). In each cluster,\n",
        "randomly label 20% of the points to label remaining points in the cluster. How\n",
        "accurate is the cluster-based labelling? How much saving it results in if each\n",
        "label costs you Rs. 100 and each labelling takes one hour.\n",
        "'''"
      ],
      "execution_count": 0,
      "outputs": [
        {
          "output_type": "execute_result",
          "data": {
            "text/plain": [
              "'\\nQ1(b)v:\\nFrom 90% of unlabelled points, randomly pick 40% of the points and use\\nclustering (using K-means with K=number of class labels). In each cluster,\\nrandomly label 20% of the points to label remaining points in the cluster. How\\naccurate is the cluster-based labelling? How much saving it results in if each\\nlabel costs you Rs. 100 and each labelling takes one hour.\\n'"
            ]
          },
          "metadata": {
            "tags": []
          },
          "execution_count": 199
        }
      ]
    },
    {
      "cell_type": "markdown",
      "metadata": {
        "id": "a8Oq_8qC_VTX",
        "colab_type": "text"
      },
      "source": [
        "\n",
        "\n",
        "---\n",
        "\n",
        "\n",
        "In this section, we shall be using clustering instead of Active Learning for labelling the unlabelled data points.\n",
        "\n",
        "Clustering algorithm used: **KMeans**\n",
        "\n",
        "Finally, we shall be evaluating the accuracy and cost & time efficiency of clustering technique over direct labelling.\n",
        "\n",
        "\n",
        "---\n",
        "\n",
        "\n"
      ]
    },
    {
      "cell_type": "code",
      "metadata": {
        "id": "qJHNo0RafVDp",
        "colab_type": "code",
        "colab": {}
      },
      "source": [
        "# Importing required libraries\n",
        "\n",
        "import numpy as np \n",
        "import pandas as pd \n",
        "import math\n",
        "from statistics import mean \n",
        "from sklearn.preprocessing import StandardScaler \n",
        "from sklearn.ensemble import BaggingClassifier\n",
        "from sklearn.svm import SVC\n",
        "from sklearn.model_selection import train_test_split \n",
        "from sklearn import datasets\n",
        "from scipy.stats import entropy\n",
        "from time import time\n",
        "import numpy as np\n",
        "import matplotlib.pyplot as plt\n",
        "from sklearn import metrics\n",
        "from sklearn.cluster import KMeans\n",
        "from sklearn.neighbors import KNeighborsClassifier\n",
        "from sklearn.datasets import load_digits\n",
        "from sklearn.decomposition import PCA\n",
        "from sklearn.preprocessing import scale\n",
        "import random\n",
        "\n",
        "from warnings import simplefilter\n",
        "# ignore all future warnings\n",
        "simplefilter(action='ignore', category=FutureWarning)"
      ],
      "execution_count": 0,
      "outputs": []
    },
    {
      "cell_type": "code",
      "metadata": {
        "id": "fpH9JPQMgdUf",
        "colab_type": "code",
        "colab": {}
      },
      "source": [
        "# Loading dataset\n",
        "X_digits, y_digits = datasets.load_digits(return_X_y=True)\n",
        "stack = np.vstack((X_digits.T, y_digits.T))\n",
        "dataset = stack.T\n",
        "\n",
        "# feature scalling \n",
        "sc = StandardScaler() \n",
        "dataset[:, :-1] = sc.fit_transform(dataset[:, :-1]) \n"
      ],
      "execution_count": 0,
      "outputs": []
    },
    {
      "cell_type": "code",
      "metadata": {
        "id": "BmarCvTYiTat",
        "colab_type": "code",
        "colab": {}
      },
      "source": [
        "# Function for randomly choosing 40% of unlabelled data\n",
        "\n",
        "def choose_40_percent(unlabel_label):\n",
        "    data_40_percent = np.array(random.sample(list(unlabel_label), math.floor(unlabel_label.shape[0] * 0.4)))\n",
        "    return data_40_percent"
      ],
      "execution_count": 0,
      "outputs": []
    },
    {
      "cell_type": "code",
      "metadata": {
        "id": "aM7qR0jZggh0",
        "colab_type": "code",
        "colab": {}
      },
      "source": [
        "percent_of_samples = 10\n",
        "train_size = 0.10\n",
        "test_size = 0.20\n",
        "\n",
        "# Obtaining 40% of unlabelled data points for Clustering\n",
        "x_train, unlabel, y_train, label = train_test_split(X_digits, y_digits, train_size = train_size)\n",
        "unlabel_label = np.concatenate((unlabel, label.reshape((label.shape[0], 1))), axis =1)\n",
        "data_40_percent = choose_40_percent(unlabel_label)\n",
        "kmeans_x_train = data_40_percent[:, :-1]\n",
        "kmeans_y_train = data_40_percent[:, -1]"
      ],
      "execution_count": 0,
      "outputs": []
    },
    {
      "cell_type": "code",
      "metadata": {
        "id": "Mh4bkPyDsMTI",
        "colab_type": "code",
        "outputId": "fc2f185c-6c55-45be-a21c-93119cbe2f74",
        "colab": {
          "base_uri": "https://localhost:8080/",
          "height": 418
        }
      },
      "source": [
        "# KMeans Clustering for this 40% unlabelled data points\n",
        "n_clusters = 10\n",
        "n_samples = kmeans_x_train.shape[0]\n",
        "n_features = kmeans_x_train.shape[1]\n",
        "\n",
        "kmeans = KMeans(n_clusters= n_clusters, random_state=0)\n",
        "kmeans.fit(kmeans_x_train)\n",
        "kmeans_y_train_pred = kmeans.predict(kmeans_x_train)\n",
        "# Clustering results\n",
        "print('Number of Samples points: ' + str(n_samples))\n",
        "print('Number of Features: ' + str(n_features))\n",
        "print('Number of Clusters: ' + str(n_clusters))\n",
        "print()\n",
        "print('Clustering results for these 40% unlabelled data points: \\n')\n",
        "print(kmeans_y_train_pred)"
      ],
      "execution_count": 15,
      "outputs": [
        {
          "output_type": "stream",
          "text": [
            "Number of Samples points: 647\n",
            "Number of Features: 64\n",
            "Number of Clusters: 10\n",
            "\n",
            "Clustering results for these 40% unlabelled data points: \n",
            "\n",
            "[1 1 4 0 9 9 9 0 5 2 1 1 1 4 6 7 2 8 0 6 1 6 0 5 1 8 3 4 7 9 5 6 2 5 0 2 3\n",
            " 3 7 6 1 6 6 1 8 3 9 1 7 9 4 1 3 2 5 8 1 0 1 2 7 1 5 1 4 0 0 2 7 2 7 9 7 5\n",
            " 9 0 2 6 7 3 1 0 1 0 0 8 9 6 1 1 7 1 6 7 2 7 2 9 9 4 1 4 9 0 3 3 5 7 1 5 9\n",
            " 8 1 8 3 9 0 6 5 6 1 1 0 9 2 0 2 9 1 9 9 9 0 1 4 8 1 3 9 2 0 9 7 7 3 2 6 9\n",
            " 6 2 8 8 8 5 2 8 9 8 6 4 7 6 3 4 7 0 2 7 5 7 1 1 2 1 9 8 0 8 0 3 9 9 7 4 3\n",
            " 0 5 2 4 7 3 2 7 2 4 0 3 1 4 2 3 0 3 8 0 3 6 9 3 6 2 1 4 3 9 1 7 0 5 4 1 1\n",
            " 5 5 4 0 1 4 0 3 8 2 5 3 4 8 9 5 1 7 1 1 9 1 1 2 3 1 6 9 6 1 5 6 7 9 9 8 4\n",
            " 3 1 9 4 5 0 6 4 1 7 0 2 3 6 1 8 3 6 1 1 8 4 7 2 3 4 0 1 0 6 4 2 7 5 0 4 3\n",
            " 3 1 9 9 0 0 9 3 5 1 1 9 1 5 2 9 3 1 6 2 4 7 8 7 1 2 7 5 5 9 0 5 7 0 0 9 3\n",
            " 6 9 2 3 0 3 6 1 1 1 8 1 8 9 6 1 4 1 3 0 2 6 0 9 3 9 6 2 2 7 5 8 2 5 6 3 4\n",
            " 5 3 9 4 3 9 4 9 2 2 1 7 5 4 3 4 3 0 7 1 7 9 1 7 9 5 6 0 5 6 4 1 6 7 2 1 4\n",
            " 1 2 1 0 7 0 4 2 1 4 8 3 3 8 7 4 5 5 0 7 7 1 9 0 1 6 6 9 6 2 7 1 2 6 7 4 9\n",
            " 1 4 2 6 2 7 0 2 7 2 0 1 1 4 7 9 1 4 2 1 0 7 1 6 6 1 3 4 2 4 0 2 0 1 5 2 1\n",
            " 1 7 3 4 1 0 7 1 2 6 5 6 1 2 1 5 0 9 9 4 9 0 9 3 5 5 3 7 7 2 4 4 7 9 9 9 2\n",
            " 4 2 0 4 2 2 2 9 5 6 7 0 9 6 7 7 3 0 5 1 9 2 3 4 2 0 4 0 2 9 3 8 5 1 7 5 4\n",
            " 0 6 3 0 4 7 1 4 7 3 7 0 7 0 3 7 4 3 2 5 8 1 6 9 1 7 5 1 2 0 3 3 2 2 1 7 7\n",
            " 5 5 9 1 5 6 4 0 2 2 3 4 8 3 1 1 9 4 8 3 6 9 6 9 0 5 2 5 2 4 8 4 9 3 6 3 4\n",
            " 6 5 9 1 9 5 1 5 0 9 6 0 0 9 5 2 5 1]\n"
          ],
          "name": "stdout"
        }
      ]
    },
    {
      "cell_type": "code",
      "metadata": {
        "id": "1Iwmhyy4zew3",
        "colab_type": "code",
        "colab": {}
      },
      "source": [
        "# Obtaining indices of points in respective clusters\n",
        "indices = {i: np.where(kmeans.labels_ == i)[0] for i in range(kmeans.n_clusters)}\n",
        "#indices"
      ],
      "execution_count": 0,
      "outputs": []
    },
    {
      "cell_type": "code",
      "metadata": {
        "id": "icWegPspiChe",
        "colab_type": "code",
        "colab": {}
      },
      "source": [
        "# Function to label clusters using 20% (correctly labelled) points of these 40% clustered points\n",
        "def label_clusters_with_20_percent(data_40_percent, indices):\n",
        "\n",
        "    # Segregating the features and labels of the 40% data points \n",
        "    kmeans_x_train = data_40_percent[:, :-1]\n",
        "    kmeans_y_train = data_40_percent[:, -1]\n",
        "    \n",
        "    dict_20_percent = {}\n",
        "    clusters_20_percent_label = {}\n",
        "    cluster_label = {}\n",
        "    kmeans_cluster_labels = np.zeros(kmeans_y_train.shape)\n",
        "    for i in indices:\n",
        "\n",
        "        # Randomly picking 20% of the 40%\n",
        "        dict_20_percent[i] = np.array(random.sample(list(indices[i]), math.ceil(indices[i].shape[0] * 0.2)))\n",
        "\n",
        "        # Labelling these 20% points\n",
        "        clusters_20_percent_label[i] = kmeans_y_train[dict_20_percent[i]]\n",
        "\n",
        "        # Most frequently element in this 20% labels in each cluster\n",
        "        cluster_label[i] = max(set(list(clusters_20_percent_label[i])), key = list(clusters_20_percent_label[i]).count)\n",
        "\n",
        "        for j in indices[i]:\n",
        "            # Assigning the values to respective most frequently value to each cluster\n",
        "            kmeans_cluster_labels[j] = cluster_label[i]\n",
        "\n",
        "    return kmeans_cluster_labels"
      ],
      "execution_count": 0,
      "outputs": []
    },
    {
      "cell_type": "code",
      "metadata": {
        "id": "C8R7dZ-n9Reo",
        "colab_type": "code",
        "colab": {}
      },
      "source": [
        ""
      ],
      "execution_count": 0,
      "outputs": []
    },
    {
      "cell_type": "markdown",
      "metadata": {
        "id": "7eT_qJty9pGG",
        "colab_type": "text"
      },
      "source": [
        "ACCURACY OF CLUSTERING "
      ]
    },
    {
      "cell_type": "code",
      "metadata": {
        "id": "lV4NjomuAOQK",
        "colab_type": "code",
        "outputId": "32757166-20d0-4c2c-a5b8-018af141ca27",
        "colab": {
          "base_uri": "https://localhost:8080/",
          "height": 33
        }
      },
      "source": [
        "# Accuracy attained by clustering\n",
        "\n",
        "kmeans_cluster_labels = label_clusters_with_20_percent(data_40_percent, indices)\n",
        "\n",
        "acc = np.mean(metrics.accuracy_score(kmeans_y_train, kmeans_cluster_labels)) * 100\n",
        "print('Accuracy of KMeans Clustering: ' + str(acc) + ' %')"
      ],
      "execution_count": 18,
      "outputs": [
        {
          "output_type": "stream",
          "text": [
            "Accuracy of KMeans Clustering: 80.68006182380216 %\n"
          ],
          "name": "stdout"
        }
      ]
    },
    {
      "cell_type": "markdown",
      "metadata": {
        "id": "YzC1rTsME-cZ",
        "colab_type": "text"
      },
      "source": [
        "VISUALIZATION"
      ]
    },
    {
      "cell_type": "code",
      "metadata": {
        "id": "2zA0-Wf1E98l",
        "colab_type": "code",
        "outputId": "526ccbbd-a71f-479d-f613-f33690a6a35c",
        "colab": {
          "base_uri": "https://localhost:8080/",
          "height": 316
        }
      },
      "source": [
        "\n",
        "# CLUSTERING VISUALIZATION\n",
        "\n",
        "data = unlabel\n",
        "\n",
        "n_samples, n_features = data.shape\n",
        "n_digits = len(np.unique(y_digits))\n",
        "labels = y_digits\n",
        "\n",
        "sample_size = 300\n",
        "\n",
        "print(\"n_digits: %d, \\t n_samples %d, \\t n_features %d\"\n",
        "      % (n_digits, n_samples, n_features))\n",
        "\n",
        "def bench_k_means(estimator, name, data):\n",
        "    estimator.fit(data)\n",
        "    \n",
        "bench_k_means(KMeans(init='k-means++', n_clusters=n_digits, n_init=10),\n",
        "              name=\"k-means++\", data=data)\n",
        "bench_k_means(KMeans(init='random', n_clusters=n_digits, n_init=10),\n",
        "              name=\"random\", data=data)\n",
        "\n",
        "# in this case the seeding of the centers is deterministic, hence we run the\n",
        "# kmeans algorithm only once with n_init=1\n",
        "pca = PCA(n_components=n_digits).fit(data)\n",
        "bench_k_means(KMeans(init=pca.components_, n_clusters=n_digits, n_init=1),\n",
        "              name=\"PCA-based\",\n",
        "              data=data)\n",
        "print(82 * '_')\n",
        "\n",
        "# #############################################################################\n",
        "# Visualize the results on PCA-reduced data\n",
        "\n",
        "reduced_data = PCA(n_components=2).fit_transform(data)\n",
        "kmeans = KMeans(init='k-means++', n_clusters=n_digits, n_init=10)\n",
        "kmeans.fit(reduced_data)\n",
        "\n",
        "# Step size of the mesh. Decrease to increase the quality of the VQ.\n",
        "h = .02     # point in the mesh [x_min, x_max]x[y_min, y_max].\n",
        "\n",
        "# Plot the decision boundary. For that, we will assign a color to each\n",
        "x_min, x_max = reduced_data[:, 0].min() - 1, reduced_data[:, 0].max() + 1\n",
        "y_min, y_max = reduced_data[:, 1].min() - 1, reduced_data[:, 1].max() + 1\n",
        "xx, yy = np.meshgrid(np.arange(x_min, x_max, h), np.arange(y_min, y_max, h))\n",
        "\n",
        "# Obtain labels for each point in mesh. Use last trained model.\n",
        "Z = kmeans.predict(np.c_[xx.ravel(), yy.ravel()])\n",
        "\n",
        "# Put the result into a color plot\n",
        "Z = Z.reshape(xx.shape)\n",
        "plt.figure(1)\n",
        "plt.clf()\n",
        "plt.imshow(Z, interpolation='nearest',\n",
        "           extent=(xx.min(), xx.max(), yy.min(), yy.max()),\n",
        "           cmap=plt.cm.Paired,\n",
        "           aspect='auto', origin='lower')\n",
        "\n",
        "plt.plot(reduced_data[:, 0], reduced_data[:, 1], 'k.', markersize=2)\n",
        "# Plot the centroids as a white X\n",
        "centroids = kmeans.cluster_centers_\n",
        "plt.scatter(centroids[:, 0], centroids[:, 1],\n",
        "            marker='x', s=169, linewidths=3,\n",
        "            color='w', zorder=10)\n",
        "plt.title('K-means clustering on the digits dataset \\n'\n",
        "          'Centroids are marked with white cross')\n",
        "plt.xlim(x_min, x_max)\n",
        "plt.ylim(y_min, y_max)\n",
        "plt.xticks(())\n",
        "plt.yticks(())\n",
        "plt.show()"
      ],
      "execution_count": 19,
      "outputs": [
        {
          "output_type": "stream",
          "text": [
            "n_digits: 10, \t n_samples 1618, \t n_features 64\n",
            "__________________________________________________________________________________\n"
          ],
          "name": "stdout"
        },
        {
          "output_type": "display_data",
          "data": {
            "image/png": "[encoded data removed]",
            "text/plain": [
              "<Figure size 432x288 with 1 Axes>"
            ]
          },
          "metadata": {
            "tags": []
          }
        }
      ]
    },
    {
      "cell_type": "markdown",
      "metadata": {
        "id": "MewQaauT9ulE",
        "colab_type": "text"
      },
      "source": [
        "COST EFFECTIVENESS"
      ]
    },
    {
      "cell_type": "code",
      "metadata": {
        "id": "_SLjxOB_k4-l",
        "colab_type": "code",
        "outputId": "5fff973e-0005-4a78-e81c-1b3421efed35",
        "colab": {
          "base_uri": "https://localhost:8080/",
          "height": 50
        }
      },
      "source": [
        "'''\n",
        "Cost of each label = Rs. 100\n",
        "Time of each labelling = 1 hour\n",
        "Accuracy of Clustering ~ 80% (by just having 7.2% of the points labelled)\n",
        "'''\n",
        "\n",
        "print('Cost Saving: Rs. ' + str(0.928 * acc/100 * dataset.shape[0] * 100))\n",
        "print('Time Saving: ' + str(0.928 * acc/100 * dataset.shape[0] * 1) + ' hours')"
      ],
      "execution_count": 20,
      "outputs": [
        {
          "output_type": "stream",
          "text": [
            "Cost Saving: Rs. 134543.36197836167\n",
            "Time Saving: 1345.4336197836167 hours\n"
          ],
          "name": "stdout"
        }
      ]
    },
    {
      "cell_type": "markdown",
      "metadata": {
        "id": "xylDG1NW_OXl",
        "colab_type": "text"
      },
      "source": [
        "END OF Q1"
      ]
    }
  ]
}