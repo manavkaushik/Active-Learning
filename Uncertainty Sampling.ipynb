{
  "nbformat": 4,
  "nbformat_minor": 0,
  "metadata": {
    "colab": {
      "name": "Q1_b_i",
      "provenance": []
    },
    "kernelspec": {
      "name": "python3",
      "display_name": "Python 3"
    }
  },
  "cells": [
    {
      "cell_type": "markdown",
      "metadata": {
        "id": "q36epQO9PcLp",
        "colab_type": "text"
      },
      "source": [
        "# Active Learning: Q1 (b): i"
      ]
    },
    {
      "cell_type": "code",
      "metadata": {
        "id": "YjsBQcfgPya5",
        "colab_type": "code",
        "outputId": "9c86e974-0b56-4736-b20a-ca88dfc00cd8",
        "colab": {
          "base_uri": "https://localhost:8080/",
          "height": 33
        }
      },
      "source": [
        "''' Q1(b) i:\n",
        "use uncertainty sampling (Least confident, Margin Sampling, & Entropy) to label points.\n",
        "Compare the three measures of informativeness.\n",
        "'''"
      ],
      "execution_count": 0,
      "outputs": [
        {
          "output_type": "execute_result",
          "data": {
            "text/plain": [
              "' Q1(b) i:\\nuse uncertainty sampling (Least confident, Margin Sampling, & Entropy) to label points.\\nCompare the three measures of informativeness.\\n'"
            ]
          },
          "metadata": {
            "tags": []
          },
          "execution_count": 1
        }
      ]
    },
    {
      "cell_type": "markdown",
      "metadata": {
        "id": "MeGqVDhVgECy",
        "colab_type": "text"
      },
      "source": [
        "\n",
        "\n",
        "---\n",
        "\n",
        "\n",
        "In the following segment, we develop the three UNCERTAINITY SAMPLING approaches: \n",
        "\n",
        "*   Least Confidence Sampling\n",
        "*   Margin Sampling\n",
        "*   Entropy Sampling\n",
        "\n",
        "\n",
        "---\n",
        "\n",
        "\n",
        "\n",
        "\n",
        "After this, we have shown a comparison among the above three technques on the basis of the following metrics tested on test data:\n",
        "\n",
        "*   Accuracy\n",
        "*   Precision Score\n",
        "*   F1 Score\n",
        "\n",
        "\n",
        "---\n",
        "\n",
        "\n",
        "\n",
        "\n",
        "Please note that we shall be using **SVM classifier** for our classification purposes!\n",
        "\n",
        "\n",
        "---\n",
        "\n",
        "\n",
        "\n",
        "\n",
        "\n",
        "\n"
      ]
    },
    {
      "cell_type": "code",
      "metadata": {
        "id": "St1qaQ8jQuXU",
        "colab_type": "code",
        "outputId": "f6342388-13e5-46aa-8b46-042ea91fcca3",
        "colab": {
          "base_uri": "https://localhost:8080/",
          "height": 70
        }
      },
      "source": [
        "# Importing required libraries\n",
        "\n",
        "import numpy as np \n",
        "import pandas as pd \n",
        "import math\n",
        "from statistics import mean \n",
        "from sklearn.preprocessing import StandardScaler \n",
        "from sklearn import metrics\n",
        "from sklearn.svm import SVC\n",
        "from sklearn.model_selection import train_test_split \n",
        "from sklearn import datasets\n",
        "from scipy.stats import entropy\n",
        "import numpy as np\n",
        "import seaborn as sns; sns.set()\n",
        "import matplotlib.pyplot as plt\n",
        "\n",
        "from warnings import simplefilter\n",
        "# ignore all future warnings\n",
        "simplefilter(action='ignore', category=FutureWarning)"
      ],
      "execution_count": 0,
      "outputs": [
        {
          "output_type": "stream",
          "text": [
            "/usr/local/lib/python3.6/dist-packages/statsmodels/tools/_testing.py:19: FutureWarning: pandas.util.testing is deprecated. Use the functions in the public API at pandas.testing instead.\n",
            "  import pandas.util.testing as tm\n"
          ],
          "name": "stderr"
        }
      ]
    },
    {
      "cell_type": "code",
      "metadata": {
        "id": "NA44pVHEV1KT",
        "colab_type": "code",
        "colab": {}
      },
      "source": [
        "# split dataset into test set, train set and unlabel pool \n",
        "\n",
        "def split(dataset, train_size, test_size): \n",
        "\tx = dataset[:, :-1] \n",
        "\ty = dataset[:, -1] \n",
        "\tx_train, x_pool, y_train, y_pool = train_test_split( \n",
        "\t\tx, y, train_size = train_size) \n",
        "\tunlabel, x_test, label, y_test = train_test_split( \n",
        "\t\tx_pool, y_pool, test_size = test_size) \n",
        "\treturn x_train, y_train, x_test, y_test, unlabel, label"
      ],
      "execution_count": 0,
      "outputs": []
    },
    {
      "cell_type": "code",
      "metadata": {
        "id": "5lby5WgVPYMy",
        "colab_type": "code",
        "colab": {}
      },
      "source": [
        "# function defining all types of uncertainity sampling techniques (least confidence, margin, entropy)\n",
        "\n",
        "def uncertainity_sampling(name, unlabel, classifier, percent_of_samples, dataset):\n",
        "\n",
        "    # For LEAST CONFIDENCE SAMPLING\n",
        "    if name == 'least_confidence':\n",
        "        proba = classifier.predict_proba(unlabel)\n",
        "        prob_max = proba.max(axis=1)\n",
        "        sorted_idx = np.argsort(prob_max)\n",
        "        #print('Probability distribution of Top 5 Selection through LEAST CONFIDENCE: \\n')\n",
        "        #for i in range(1,6):\n",
        "            #print(\"Selection #\" + str(i) + ': ' + str(proba[sorted_idx[i-1]]) + '\\n')\n",
        "        \n",
        "        uncrt_pt_ind = [] \n",
        "        for i in range(math.floor(percent_of_samples * 0.01 * dataset.shape[0])):\n",
        "             uncrt_pt_ind.append(sorted_idx[i])\n",
        "        return uncrt_pt_ind\n",
        "\n",
        "    # For MARGIN SAMPLING\n",
        "    if name == 'margin_sampling':\n",
        "        proba = classifier.predict_proba(unlabel)\n",
        "        part = np.partition(-proba, 1, axis=1)\n",
        "        margin = - part[:, 0] + part[:, 1]\n",
        "        sorted_idx = np.argsort(margin)\n",
        "        # print('Probability distribution of Top 5 Selection through MARGIN SAMPLING: \\n')\n",
        "        # for i in range(1,6):\n",
        "        #     print(\"Selection #\" + str(i) + ': ' + str(proba[sorted_idx[i-1]]) + '\\n')\n",
        "        uncrt_pt_ind = [] \n",
        "        for i in range(math.floor(percent_of_samples * 0.01 * dataset.shape[0])):\n",
        "             uncrt_pt_ind.append(sorted_idx[i])\n",
        "        return uncrt_pt_ind\n",
        "\n",
        "    # For ENTROPY SAMPLING\n",
        "    if name == 'entropy':\n",
        "        proba = classifier.predict_proba(unlabel)\n",
        "        \n",
        "        entr = entropy(proba.T)\n",
        "        sorted_idx = np.argsort(entr)\n",
        "        # print('Probability distribution of Top 5 Selection through ENTROPY: \\n')\n",
        "        # for i in range(1,6):\n",
        "        #     print(\"Selection #\" + str(i) + ': ' + str(proba[sorted_idx[len(entr) - i]]) + '\\n')\n",
        "        uncrt_pt_ind = [] \n",
        "        for i in range(math.floor(percent_of_samples * 0.01 * dataset.shape[0])):\n",
        "             uncrt_pt_ind.append(sorted_idx[-i -1])\n",
        "        return uncrt_pt_ind"
      ],
      "execution_count": 0,
      "outputs": []
    },
    {
      "cell_type": "code",
      "metadata": {
        "id": "6kC9pLrGQiKh",
        "colab_type": "code",
        "colab": {}
      },
      "source": [
        "# Loading dataset\n",
        "X_digits, y_digits = datasets.load_digits(return_X_y=True)\n",
        "stack = np.vstack((X_digits.T, y_digits.T))\n",
        "dataset = stack.T\n",
        "\n",
        "# feature scalling \n",
        "sc = StandardScaler() \n",
        "dataset[:, :-1] = sc.fit_transform(dataset[:, :-1]) \n"
      ],
      "execution_count": 0,
      "outputs": []
    },
    {
      "cell_type": "code",
      "metadata": {
        "id": "jpZoWscjf0Sp",
        "colab_type": "code",
        "colab": {}
      },
      "source": [
        ""
      ],
      "execution_count": 0,
      "outputs": []
    },
    {
      "cell_type": "markdown",
      "metadata": {
        "id": "6WBmtyl1Xfsz",
        "colab_type": "text"
      },
      "source": [
        "1. LEAST CONFIDENCE SAMPLING"
      ]
    },
    {
      "cell_type": "code",
      "metadata": {
        "id": "x8QC3lK7XByw",
        "colab_type": "code",
        "outputId": "db2dcf80-eff8-4aa9-e4a9-d2bb5e803d7c",
        "colab": {
          "base_uri": "https://localhost:8080/",
          "height": 67
        }
      },
      "source": [
        "#############################################################################################\n",
        "sampling_name = 'least_confidence'\n",
        "percent_of_samples = 10\n",
        "train_size = 0.10\n",
        "test_size = 0.20\n",
        "\n",
        "############################################################################################\n",
        "\n",
        "############################################################################################\n",
        "# run the model 10 times and take the average of its accuracies, precision_score & f1_score \n",
        "accuracy1 = []\n",
        "prec_score1 = []\n",
        "f1_score1 = []\n",
        "\n",
        "for i in range(10): \n",
        "\n",
        "    # split dataset into train(10 %), test(20 %), unlabel(70 %) \n",
        "    x_train, y_train, x_test, y_test, unlabel, label = split(dataset, train_size, test_size) \n",
        "\n",
        "    # train model by active learning by labelling the extra 10% datapoints\n",
        "    for i in range(1): \n",
        "        classifier1 = SVC(decision_function_shape='ovo', probability = True)\n",
        "        classifier1.fit(x_train, y_train) \n",
        "        y_probab = classifier1.predict_proba(unlabel)[:, 0] \n",
        "\n",
        "        # Obtaining the required unlabelled data points for labelling by Oracle\n",
        "        uncrt_pt_ind = uncertainity_sampling(sampling_name, unlabel, classifier1, percent_of_samples, dataset)\n",
        "        \n",
        "        # Appending the newly labelled data points into the training set\n",
        "        x_train = np.append(unlabel[uncrt_pt_ind, :], x_train, axis = 0)\n",
        "        proba_chosen_samples =  classifier1.predict_proba(unlabel[uncrt_pt_ind, :])\n",
        "        y_train = np.append(label[uncrt_pt_ind], y_train)\n",
        "\n",
        "        # Deleting the newly labelled data points from the unlabelled pool\n",
        "        unlabel = np.delete(unlabel, uncrt_pt_ind, axis = 0) \n",
        "        label = np.delete(label, uncrt_pt_ind) \n",
        "\n",
        "    # Running final classification model for the new training data set\n",
        "    classifier2 = SVC(decision_function_shape='ovo', probability = True)\n",
        "    classifier2.fit(x_train, y_train) \n",
        "\n",
        "    # Obtaining the performance of the final ACTIVE LEARNING MODEL\n",
        "    accuracy1.append(classifier2.score(x_test, y_test)) \n",
        "    prec_score1.append(metrics.precision_score(classifier2.predict(x_test), y_test, average = 'macro')) \n",
        "    f1_score1.append(metrics.f1_score(classifier2.predict(x_test), y_test, average = 'macro')) \n",
        "\n",
        "############################################################################################\n",
        "\n",
        "\n",
        "############################################################################################\n",
        "# Printing the performace of the ACTIVE LEARNING MODEL\n",
        "print(\"Accuracy by ACTIVE MODEL [with Least Confidence Sampling] :\", mean(accuracy1)*100) \n",
        "print(\"Precision Score by ACTIVE MODEL [with Least Confidence Sampling] :\", mean(prec_score1))\n",
        "print(\"F1 Score by ACTIVE MODEL [with Least Confidence Sampling] :\", mean(f1_score1)) \n",
        "\n",
        "############################################################################################"
      ],
      "execution_count": 0,
      "outputs": [
        {
          "output_type": "stream",
          "text": [
            "Accuracy by ACTIVE MODEL [with Least Confidence Sampling] : 96.75925925925925\n",
            "Precision Score by ACTIVE MODEL [with Least Confidence Sampling] : 0.9674401578445708\n",
            "F1 Score by ACTIVE MODEL [with Least Confidence Sampling] : 0.9669540856185114\n"
          ],
          "name": "stdout"
        }
      ]
    },
    {
      "cell_type": "code",
      "metadata": {
        "id": "CSrQJwfZf1XN",
        "colab_type": "code",
        "outputId": "1d5c296d-d8c0-4dbd-9bcc-f4cccc835149",
        "colab": {
          "base_uri": "https://localhost:8080/",
          "height": 301
        }
      },
      "source": [
        "print('The probablity distributions of top 5 samples chosen by LEAST CONFIDENCE SAMPLING are: \\n')\n",
        "print('Selection# 1: ' + str(proba_chosen_samples[0]) + '\\n')\n",
        "print('Selection# 2: ' + str(proba_chosen_samples[1]) + '\\n')\n",
        "print('Selection# 3: ' + str(proba_chosen_samples[2]) + '\\n')\n",
        "print('Selection# 4: ' + str(proba_chosen_samples[3]) + '\\n')\n",
        "print('Selection# 5: ' + str(proba_chosen_samples[4]) + '\\n')"
      ],
      "execution_count": 0,
      "outputs": [
        {
          "output_type": "stream",
          "text": [
            "The probablity distributions of top 5 samples chosen by LEAST CONFIDENCE SAMPLING are: \n",
            "\n",
            "Selection# 1: [0.04657279 0.12954407 0.10241088 0.16382341 0.06818773 0.0417824\n",
            " 0.08687414 0.13251074 0.17854801 0.04974581]\n",
            "\n",
            "Selection# 2: [0.04941764 0.13121811 0.07496966 0.06466836 0.17980464 0.10887817\n",
            " 0.09733066 0.17944162 0.03765182 0.07661933]\n",
            "\n",
            "Selection# 3: [0.03919045 0.12537048 0.0828352  0.13709944 0.06579437 0.15359503\n",
            " 0.08044748 0.05170077 0.18335471 0.08061208]\n",
            "\n",
            "Selection# 4: [0.02355197 0.10525635 0.18429886 0.10430115 0.04303902 0.09025985\n",
            " 0.07582016 0.11988929 0.10981934 0.143764  ]\n",
            "\n",
            "Selection# 5: [0.03457714 0.13273668 0.18516457 0.08131302 0.07999559 0.10358457\n",
            " 0.08527262 0.17109725 0.03978387 0.08647469]\n",
            "\n"
          ],
          "name": "stdout"
        }
      ]
    },
    {
      "cell_type": "code",
      "metadata": {
        "id": "GYJ-SSRSl717",
        "colab_type": "code",
        "colab": {}
      },
      "source": [
        ""
      ],
      "execution_count": 0,
      "outputs": []
    },
    {
      "cell_type": "markdown",
      "metadata": {
        "id": "QxLoqmIafvHY",
        "colab_type": "text"
      },
      "source": [
        "2. MARGIN SAMPLING"
      ]
    },
    {
      "cell_type": "code",
      "metadata": {
        "id": "WgwryRbfbaMI",
        "colab_type": "code",
        "outputId": "fcdf0b7a-1a53-4ac0-b43d-c25e11dbb8f7",
        "colab": {
          "base_uri": "https://localhost:8080/",
          "height": 67
        }
      },
      "source": [
        "#############################################################################################\n",
        "sampling_name = 'margin_sampling'\n",
        "percent_of_samples = 10\n",
        "train_size = 0.10\n",
        "test_size = 0.20\n",
        "\n",
        "############################################################################################\n",
        "\n",
        "############################################################################################\n",
        "# run the model 10 times and take the average of its accuracies, precision_score & f1_score \n",
        "accuracy2 = []\n",
        "prec_score2 = []\n",
        "f1_score2 = []\n",
        "\n",
        "for i in range(10): \n",
        "\n",
        "    # split dataset into train(10 %), test(20 %), unlabel(70 %) \n",
        "    x_train, y_train, x_test, y_test, unlabel, label = split(dataset, train_size, test_size) \n",
        "\n",
        "    # train model by active learning by labelling the extra 10% data points\n",
        "    for i in range(1): \n",
        "        classifier1 = SVC(decision_function_shape='ovo', probability = True)\n",
        "        classifier1.fit(x_train, y_train) \n",
        "        y_probab = classifier1.predict_proba(unlabel)[:, 0] \n",
        "\n",
        "        # Obtaining the required unlabelled data points for labelling by Oracle\n",
        "        uncrt_pt_ind = uncertainity_sampling(sampling_name, unlabel, classifier1, percent_of_samples, dataset)\n",
        "        \n",
        "        # Appending the newly labelled data points into the training set\n",
        "        x_train = np.append(unlabel[uncrt_pt_ind, :], x_train, axis = 0) \n",
        "        proba_chosen_samples =  classifier1.predict_proba(unlabel[uncrt_pt_ind, :])\n",
        "        y_train = np.append(label[uncrt_pt_ind], y_train)\n",
        "\n",
        "        # Deleting the newly labelled data points from the unlabelled pool\n",
        "        unlabel = np.delete(unlabel, uncrt_pt_ind, axis = 0) \n",
        "        label = np.delete(label, uncrt_pt_ind) \n",
        "\n",
        "    # Running final classification model for the new training data set\n",
        "    classifier2 = SVC(decision_function_shape='ovo', probability = True)\n",
        "    classifier2.fit(x_train, y_train) \n",
        "\n",
        "    # Obtaining the performance of the final ACTIVE LEARNING MODEL\n",
        "    accuracy2.append(classifier2.score(x_test, y_test)) \n",
        "    prec_score2.append(metrics.precision_score(classifier2.predict(x_test), y_test, average = 'macro')) \n",
        "    f1_score2.append(metrics.f1_score(classifier2.predict(x_test), y_test, average = 'macro')) \n",
        "\n",
        "############################################################################################\n",
        "\n",
        "############################################################################################\n",
        "# Printing the performace of the ACTIVE LEARNING MODEL\n",
        "print(\"Accuracy by ACTIVE MODEL [with Margin Sampling] :\", mean(accuracy2)*100) \n",
        "print(\"Precision Score by ACTIVE MODEL [with Margin Sampling] :\", mean(prec_score2))\n",
        "print(\"F1 Score by ACTIVE MODEL [with Margin Sampling] :\", mean(f1_score2)) \n",
        "\n",
        "############################################################################################\n"
      ],
      "execution_count": 0,
      "outputs": [
        {
          "output_type": "stream",
          "text": [
            "Accuracy by ACTIVE MODEL [with Margin Sampling] : 96.38888888888889\n",
            "Precision Score by ACTIVE MODEL [with Margin Sampling] : 0.9645366348169592\n",
            "F1 Score by ACTIVE MODEL [with Margin Sampling] : 0.9631624064741922\n"
          ],
          "name": "stdout"
        }
      ]
    },
    {
      "cell_type": "code",
      "metadata": {
        "id": "PhEAQJABf22C",
        "colab_type": "code",
        "outputId": "63f87a84-e168-4bf0-d5a2-7d8d5707ae01",
        "colab": {
          "base_uri": "https://localhost:8080/",
          "height": 301
        }
      },
      "source": [
        "print('The probablity distributions of top 5 samples chosen by MARGIN SAMPLING are: \\n')\n",
        "print('Selection# 1: ' + str(proba_chosen_samples[0]) + '\\n')\n",
        "print('Selection# 2: ' + str(proba_chosen_samples[1]) + '\\n')\n",
        "print('Selection# 3: ' + str(proba_chosen_samples[2]) + '\\n')\n",
        "print('Selection# 4: ' + str(proba_chosen_samples[3]) + '\\n')\n",
        "print('Selection# 5: ' + str(proba_chosen_samples[4]) + '\\n')"
      ],
      "execution_count": 0,
      "outputs": [
        {
          "output_type": "stream",
          "text": [
            "The probablity distributions of top 5 samples chosen by MARGIN SAMPLING are: \n",
            "\n",
            "Selection# 1: [0.0123915  0.19682137 0.04673639 0.04359342 0.22252091 0.02701827\n",
            " 0.02768241 0.2205873  0.11061489 0.09203354]\n",
            "\n",
            "Selection# 2: [0.19308418 0.04183741 0.03515971 0.03639527 0.19040878 0.12904317\n",
            " 0.18468107 0.02788946 0.07452239 0.08697856]\n",
            "\n",
            "Selection# 3: [0.02490261 0.10074397 0.02621519 0.12037626 0.05030705 0.2418414\n",
            " 0.09592413 0.02169381 0.0732691  0.24472648]\n",
            "\n",
            "Selection# 4: [0.01561304 0.11415513 0.20902415 0.0767634  0.145906   0.05831192\n",
            " 0.0473433  0.03428365 0.2123208  0.0862786 ]\n",
            "\n",
            "Selection# 5: [0.01205506 0.12719316 0.10502598 0.12253351 0.06474328 0.17152216\n",
            " 0.02843391 0.09589807 0.16795269 0.10464219]\n",
            "\n"
          ],
          "name": "stdout"
        }
      ]
    },
    {
      "cell_type": "code",
      "metadata": {
        "id": "SMV5oYG4mDaZ",
        "colab_type": "code",
        "colab": {}
      },
      "source": [
        ""
      ],
      "execution_count": 0,
      "outputs": []
    },
    {
      "cell_type": "markdown",
      "metadata": {
        "id": "pGwfCvBofqN1",
        "colab_type": "text"
      },
      "source": [
        "3. ENTROPY SAMPLING"
      ]
    },
    {
      "cell_type": "code",
      "metadata": {
        "id": "yfgCdVEpfdoE",
        "colab_type": "code",
        "outputId": "3de6ff27-931d-4273-dac8-7978258d4df0",
        "colab": {
          "base_uri": "https://localhost:8080/",
          "height": 67
        }
      },
      "source": [
        "#############################################################################################\n",
        "sampling_name = 'entropy'\n",
        "percent_of_samples = 10\n",
        "train_size = 0.10\n",
        "test_size = 0.20\n",
        "\n",
        "############################################################################################\n",
        "\n",
        "############################################################################################\n",
        "# run the model 10 times and take the average of its accuracies, precision_score & f1_score \n",
        "accuracy3 = []\n",
        "prec_score3 = []\n",
        "f1_score3 = []\n",
        "\n",
        "for i in range(10): \n",
        "\n",
        "    # split dataset into train(10 %), test(20 %), unlabel(70 %) \n",
        "    x_train, y_train, x_test, y_test, unlabel, label = split(dataset, train_size, test_size) \n",
        "\n",
        "    # train model by active learning by labelling the extra 10% data points\n",
        "    for i in range(1): \n",
        "        classifier1 = SVC(decision_function_shape='ovo', probability = True)\n",
        "        classifier1.fit(x_train, y_train) \n",
        "        y_probab = classifier1.predict_proba(unlabel)[:, 0] \n",
        "\n",
        "        # Obtaining the required unlabelled data points for labelling by Oracle\n",
        "        uncrt_pt_ind = uncertainity_sampling(sampling_name, unlabel, classifier1, percent_of_samples, dataset)\n",
        "        \n",
        "        # Appending the newly labelled data points into the training set\n",
        "        x_train = np.append(unlabel[uncrt_pt_ind, :], x_train, axis = 0) \n",
        "        proba_chosen_samples =  classifier1.predict_proba(unlabel[uncrt_pt_ind, :])\n",
        "        y_train = np.append(label[uncrt_pt_ind], y_train)\n",
        "\n",
        "        # Deleting the newly labelled data points from the unlabelled pool\n",
        "        unlabel = np.delete(unlabel, uncrt_pt_ind, axis = 0) \n",
        "        label = np.delete(label, uncrt_pt_ind) \n",
        "\n",
        "    # Running final classification model for the new training data set\n",
        "    classifier2 = SVC(decision_function_shape='ovo', probability = True)\n",
        "    classifier2.fit(x_train, y_train) \n",
        "\n",
        "    # Obtaining the performance of the final ACTIVE LEARNING MODEL\n",
        "    accuracy3.append(classifier2.score(x_test, y_test)) \n",
        "    prec_score3.append(metrics.precision_score(classifier2.predict(x_test), y_test, average = 'macro')) \n",
        "    f1_score3.append(metrics.f1_score(classifier2.predict(x_test), y_test, average = 'macro')) \n",
        "\n",
        "############################################################################################\n",
        "\n",
        "############################################################################################\n",
        "# Printing the performace of the ACTIVE LEARNING MODEL\n",
        "print(\"Accuracy by ACTIVE MODEL [with Entropy Sampling] :\", mean(accuracy3)*100) \n",
        "print(\"Precision Score by ACTIVE MODEL [with Entropy Sampling] :\", mean(prec_score3))\n",
        "print(\"F1 Score by ACTIVE MODEL [with Entropy Sampling] :\", mean(f1_score3)) \n",
        "\n",
        "############################################################################################\n"
      ],
      "execution_count": 0,
      "outputs": [
        {
          "output_type": "stream",
          "text": [
            "Accuracy by ACTIVE MODEL [with Entropy Sampling] : 95.49382716049382\n",
            "Precision Score by ACTIVE MODEL [with Entropy Sampling] : 0.9543670046970342\n",
            "F1 Score by ACTIVE MODEL [with Entropy Sampling] : 0.9540263515553131\n"
          ],
          "name": "stdout"
        }
      ]
    },
    {
      "cell_type": "code",
      "metadata": {
        "id": "QdK2T8grf3wR",
        "colab_type": "code",
        "outputId": "4d29a668-e509-4c9c-ff08-902fd79e9d95",
        "colab": {
          "base_uri": "https://localhost:8080/",
          "height": 301
        }
      },
      "source": [
        "print('The probablity distributions of top 5 samples chosen by ENTROPY SAMPLING are: \\n')\n",
        "print('Selection# 1: ' + str(proba_chosen_samples[0]) + '\\n')\n",
        "print('Selection# 2: ' + str(proba_chosen_samples[1]) + '\\n')\n",
        "print('Selection# 3: ' + str(proba_chosen_samples[2]) + '\\n')\n",
        "print('Selection# 4: ' + str(proba_chosen_samples[3]) + '\\n')\n",
        "print('Selection# 5: ' + str(proba_chosen_samples[4]) + '\\n')"
      ],
      "execution_count": 0,
      "outputs": [
        {
          "output_type": "stream",
          "text": [
            "The probablity distributions of top 5 samples chosen by ENTROPY SAMPLING are: \n",
            "\n",
            "Selection# 1: [0.19378701 0.02249303 0.0706992  0.08990276 0.08830552 0.24091064\n",
            " 0.046119   0.08132896 0.08196506 0.08448883]\n",
            "\n",
            "Selection# 2: [0.07333991 0.03640632 0.2290786  0.14694106 0.07566713 0.1020098\n",
            " 0.17563599 0.02629856 0.03476647 0.09985615]\n",
            "\n",
            "Selection# 3: [0.00941865 0.10245706 0.17255025 0.07221264 0.04073349 0.0673303\n",
            " 0.05383465 0.10658805 0.2057047  0.1691702 ]\n",
            "\n",
            "Selection# 4: [0.19100793 0.0459144  0.0818484  0.09673782 0.05742592 0.07525192\n",
            " 0.23747606 0.0190953  0.0564847  0.13875754]\n",
            "\n",
            "Selection# 5: [0.24773105 0.03545367 0.0386211  0.12264771 0.04517162 0.10928911\n",
            " 0.07648324 0.03043276 0.16666921 0.12750054]\n",
            "\n"
          ],
          "name": "stdout"
        }
      ]
    },
    {
      "cell_type": "code",
      "metadata": {
        "id": "iMHguWAxmE5c",
        "colab_type": "code",
        "colab": {}
      },
      "source": [
        ""
      ],
      "execution_count": 0,
      "outputs": []
    },
    {
      "cell_type": "markdown",
      "metadata": {
        "id": "U3hFolYDf5R_",
        "colab_type": "text"
      },
      "source": [
        "COMPARISION OF THE UNCERTAINITY SAMPLING APPROACHES"
      ]
    },
    {
      "cell_type": "code",
      "metadata": {
        "id": "Ftj_9W_Wf4Wv",
        "colab_type": "code",
        "colab": {}
      },
      "source": [
        "compare = pd.DataFrame({\n",
        "    'Method': ['Least_Confidence', 'Margin', 'Entropy'],\n",
        "    'Accuracy': [float(\"%0.4f\" % (mean(accuracy1))), float(\"%0.4f\" % (mean(accuracy2))), float(\"%0.4f\" % (mean(accuracy3)))],\n",
        "    'F1_Score': [float(\"%0.4f\" % (mean(f1_score1))), float(\"%0.4f\" % (mean(f1_score2))), float(\"%0.4f\" % (mean(f1_score3)))],\n",
        "    'Precision_Score': [float(\"%0.4f\" % (mean(prec_score1))), float(\"%0.4f\" % (mean(prec_score2))), float(\"%0.4f\" % (mean(prec_score3)))]\n",
        "})"
      ],
      "execution_count": 0,
      "outputs": []
    },
    {
      "cell_type": "code",
      "metadata": {
        "id": "nvP36nQzfnyN",
        "colab_type": "code",
        "outputId": "fe185393-6f6d-4bbd-d8f2-d3fa2095a181",
        "colab": {
          "base_uri": "https://localhost:8080/",
          "height": 117
        }
      },
      "source": [
        "print('Comparison of the three Uncertainity Sampling Approaches after sampling additional 10% of data points: \\n')\n",
        "print(compare)"
      ],
      "execution_count": 0,
      "outputs": [
        {
          "output_type": "stream",
          "text": [
            "Comparison of the three Uncertainity Sampling Approaches after sampling additional 10% of data points: \n",
            "\n",
            "             Method  Accuracy  F1_Score  Precision_Score\n",
            "0  Least_Confidence    0.9676    0.9670           0.9674\n",
            "1            Margin    0.9639    0.9632           0.9645\n",
            "2           Entropy    0.9549    0.9540           0.9544\n"
          ],
          "name": "stdout"
        }
      ]
    },
    {
      "cell_type": "code",
      "metadata": {
        "id": "8m8c3nnTqLv2",
        "colab_type": "code",
        "outputId": "6168f00a-4e5c-43b7-8c5b-0f0eff538ed2",
        "colab": {
          "base_uri": "https://localhost:8080/",
          "height": 837
        }
      },
      "source": [
        "# COMPARISON VISUALIZATION\n",
        "\n",
        "acc = []\n",
        "name = []\n",
        "labelled_samples_percent = []\n",
        "percent_of_samples = 10\n",
        "train_size = 0.10\n",
        "test_size = 0.20\n",
        "\n",
        "X_train, Y_train, X_test, Y_test, Unlabel, Label = split(dataset, train_size, test_size)\n",
        "\n",
        "for sampling_name in ['least_confidence', 'margin_sampling', 'entropy']:\n",
        "\n",
        "    for i in range(1): \n",
        "\n",
        "        # Assigning x_train, x_test, y_train, y_test, unabel & label \n",
        "        x_train, y_train, x_test, y_test, unlabel, label =  X_train, Y_train, X_test, Y_test, Unlabel, Label\n",
        "\n",
        "        # train model by active learning by labelling the extra 10% data points with each loop (4 loops = 40% data)\n",
        "        for i in range(4): \n",
        "            classifier1 = SVC(decision_function_shape='ovo', probability = True)\n",
        "            classifier1.fit(x_train, y_train) \n",
        "            \n",
        "            ###############################################################################\n",
        "            acc.append(classifier1.score(x_test, y_test)) \n",
        "            labelled_samples_percent.append((i+1)*10)\n",
        "            name.append(sampling_name)\n",
        "            ###############################################################################\n",
        "\n",
        "            y_probab = classifier1.predict_proba(unlabel)[:, 0] \n",
        "\n",
        "            # Obtaining the required unlabelled data points for labelling by Oracle\n",
        "            uncrt_pt_ind = uncertainity_sampling(sampling_name, unlabel, classifier1, percent_of_samples, dataset)\n",
        "            \n",
        "            # Appending the newly labelled data points into the training set\n",
        "            x_train = np.append(unlabel[uncrt_pt_ind, :], x_train, axis = 0) \n",
        "            y_train = np.append(label[uncrt_pt_ind], y_train)\n",
        "\n",
        "            # Deleting the newly labelled data points from the unlabelled pool\n",
        "            unlabel = np.delete(unlabel, uncrt_pt_ind, axis = 0) \n",
        "            label = np.delete(label, uncrt_pt_ind) \n",
        "\n",
        "            # Running final classification model for the new training data set\n",
        "            classifier2 = SVC(decision_function_shape='ovo', probability = True)\n",
        "            classifier2.fit(x_train, y_train) \n",
        "\n",
        "        ###############################################################################\n",
        "        acc.append(classifier2.score(x_test, y_test)) \n",
        "        labelled_samples_percent.append((i+2)*10)\n",
        "        name.append(sampling_name)\n",
        "        ###############################################################################\n",
        "\n",
        "            \n",
        "# Creating a DataFrame for data visualization:\n",
        "data_viz = pd.DataFrame({\n",
        "    'Sampling_Name': name,\n",
        "    'Percent_Labelled_Samples': labelled_samples_percent,\n",
        "    'Accuracy': acc\n",
        "})\n",
        "\n",
        "print('Comparison of the two UNCERTAINITY Sampling Techniques after each iteration of 10% Sampling: \\n')\n",
        "print(data_viz)\n",
        "print()\n",
        "\n",
        "a4_dims = (11.7, 8.27)\n",
        "fig, ax = plt.subplots(figsize=a4_dims)\n",
        "\n",
        "ax = sns.lineplot(x=\"Percent_Labelled_Samples\", y=\"Accuracy\",\n",
        "                  hue=\"Sampling_Name\", style=\"Sampling_Name\",\n",
        "                  markers=True, dashes=False, data=data_viz)"
      ],
      "execution_count": 0,
      "outputs": [
        {
          "output_type": "stream",
          "text": [
            "Comparison of the two UNCERTAINITY Sampling Techniques after each iteration of 10% Sampling: \n",
            "\n",
            "       Sampling_Name  Percent_Labelled_Samples  Accuracy\n",
            "0   least_confidence                        10  0.935185\n",
            "1   least_confidence                        20  0.969136\n",
            "2   least_confidence                        30  0.984568\n",
            "3   least_confidence                        40  0.987654\n",
            "4   least_confidence                        50  0.984568\n",
            "5    margin_sampling                        10  0.935185\n",
            "6    margin_sampling                        20  0.978395\n",
            "7    margin_sampling                        30  0.984568\n",
            "8    margin_sampling                        40  0.987654\n",
            "9    margin_sampling                        50  0.984568\n",
            "10           entropy                        10  0.935185\n",
            "11           entropy                        20  0.959877\n",
            "12           entropy                        30  0.984568\n",
            "13           entropy                        40  0.984568\n",
            "14           entropy                        50  0.984568\n",
            "\n"
          ],
          "name": "stdout"
        },
        {
          "output_type": "display_data",
          "data": {
            "image/png": "[encoded data removed]",
            "text/plain": [
              "<Figure size 842.4x595.44 with 1 Axes>"
            ]
          },
          "metadata": {
            "tags": []
          }
        }
      ]
    },
    {
      "cell_type": "code",
      "metadata": {
        "id": "K8Qfw_riGvCB",
        "colab_type": "code",
        "outputId": "3d2497af-2acb-4903-c6f1-bcbf240dbd98",
        "colab": {
          "base_uri": "https://localhost:8080/",
          "height": 528
        }
      },
      "source": [
        "print('Comparison of the two Uncertainity Sampling Techniques after each iteration of 10% Sampling: \\n')\n",
        "\n",
        "data_viz"
      ],
      "execution_count": 0,
      "outputs": [
        {
          "output_type": "stream",
          "text": [
            "Comparison of the two Uncertainity Sampling Techniques after each iteration of 10% Sampling: \n",
            "\n"
          ],
          "name": "stdout"
        },
        {
          "output_type": "execute_result",
          "data": {
            "text/html": [
              "<div>\n",
              "<style scoped>\n",
              "    .dataframe tbody tr th:only-of-type {\n",
              "        vertical-align: middle;\n",
              "    }\n",
              "\n",
              "    .dataframe tbody tr th {\n",
              "        vertical-align: top;\n",
              "    }\n",
              "\n",
              "    .dataframe thead th {\n",
              "        text-align: right;\n",
              "    }\n",
              "</style>\n",
              "<table border=\"1\" class=\"dataframe\">\n",
              "  <thead>\n",
              "    <tr style=\"text-align: right;\">\n",
              "      <th></th>\n",
              "      <th>Sampling_Name</th>\n",
              "      <th>Percent_Labelled_Samples</th>\n",
              "      <th>Accuracy</th>\n",
              "    </tr>\n",
              "  </thead>\n",
              "  <tbody>\n",
              "    <tr>\n",
              "      <th>0</th>\n",
              "      <td>least_confidence</td>\n",
              "      <td>10</td>\n",
              "      <td>0.895062</td>\n",
              "    </tr>\n",
              "    <tr>\n",
              "      <th>1</th>\n",
              "      <td>least_confidence</td>\n",
              "      <td>20</td>\n",
              "      <td>0.959877</td>\n",
              "    </tr>\n",
              "    <tr>\n",
              "      <th>2</th>\n",
              "      <td>least_confidence</td>\n",
              "      <td>30</td>\n",
              "      <td>0.969136</td>\n",
              "    </tr>\n",
              "    <tr>\n",
              "      <th>3</th>\n",
              "      <td>least_confidence</td>\n",
              "      <td>40</td>\n",
              "      <td>0.969136</td>\n",
              "    </tr>\n",
              "    <tr>\n",
              "      <th>4</th>\n",
              "      <td>least_confidence</td>\n",
              "      <td>50</td>\n",
              "      <td>0.969136</td>\n",
              "    </tr>\n",
              "    <tr>\n",
              "      <th>5</th>\n",
              "      <td>margin_sampling</td>\n",
              "      <td>10</td>\n",
              "      <td>0.895062</td>\n",
              "    </tr>\n",
              "    <tr>\n",
              "      <th>6</th>\n",
              "      <td>margin_sampling</td>\n",
              "      <td>20</td>\n",
              "      <td>0.962963</td>\n",
              "    </tr>\n",
              "    <tr>\n",
              "      <th>7</th>\n",
              "      <td>margin_sampling</td>\n",
              "      <td>30</td>\n",
              "      <td>0.966049</td>\n",
              "    </tr>\n",
              "    <tr>\n",
              "      <th>8</th>\n",
              "      <td>margin_sampling</td>\n",
              "      <td>40</td>\n",
              "      <td>0.969136</td>\n",
              "    </tr>\n",
              "    <tr>\n",
              "      <th>9</th>\n",
              "      <td>margin_sampling</td>\n",
              "      <td>50</td>\n",
              "      <td>0.972222</td>\n",
              "    </tr>\n",
              "    <tr>\n",
              "      <th>10</th>\n",
              "      <td>entropy</td>\n",
              "      <td>10</td>\n",
              "      <td>0.895062</td>\n",
              "    </tr>\n",
              "    <tr>\n",
              "      <th>11</th>\n",
              "      <td>entropy</td>\n",
              "      <td>20</td>\n",
              "      <td>0.932099</td>\n",
              "    </tr>\n",
              "    <tr>\n",
              "      <th>12</th>\n",
              "      <td>entropy</td>\n",
              "      <td>30</td>\n",
              "      <td>0.966049</td>\n",
              "    </tr>\n",
              "    <tr>\n",
              "      <th>13</th>\n",
              "      <td>entropy</td>\n",
              "      <td>40</td>\n",
              "      <td>0.972222</td>\n",
              "    </tr>\n",
              "    <tr>\n",
              "      <th>14</th>\n",
              "      <td>entropy</td>\n",
              "      <td>50</td>\n",
              "      <td>0.969136</td>\n",
              "    </tr>\n",
              "  </tbody>\n",
              "</table>\n",
              "</div>"
            ],
            "text/plain": [
              "       Sampling_Name  Percent_Labelled_Samples  Accuracy\n",
              "0   least_confidence                        10  0.895062\n",
              "1   least_confidence                        20  0.959877\n",
              "2   least_confidence                        30  0.969136\n",
              "3   least_confidence                        40  0.969136\n",
              "4   least_confidence                        50  0.969136\n",
              "5    margin_sampling                        10  0.895062\n",
              "6    margin_sampling                        20  0.962963\n",
              "7    margin_sampling                        30  0.966049\n",
              "8    margin_sampling                        40  0.969136\n",
              "9    margin_sampling                        50  0.972222\n",
              "10           entropy                        10  0.895062\n",
              "11           entropy                        20  0.932099\n",
              "12           entropy                        30  0.966049\n",
              "13           entropy                        40  0.972222\n",
              "14           entropy                        50  0.969136"
            ]
          },
          "metadata": {
            "tags": []
          },
          "execution_count": 15
        }
      ]
    },
    {
      "cell_type": "markdown",
      "metadata": {
        "id": "gubYpFC3GCUs",
        "colab_type": "text"
      },
      "source": [
        "END OF Q1(b)i"
      ]
    }
  ]
}