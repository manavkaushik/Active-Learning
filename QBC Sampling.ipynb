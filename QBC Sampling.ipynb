{
  "nbformat": 4,
  "nbformat_minor": 0,
  "metadata": {
    "colab": {
      "name": "Q1_b_ii",
      "provenance": []
    },
    "kernelspec": {
      "name": "python3",
      "display_name": "Python 3"
    }
  },
  "cells": [
    {
      "cell_type": "markdown",
      "metadata": {
        "id": "BVm5agwJrgqv",
        "colab_type": "text"
      },
      "source": [
        "# Active Learning: Q1 (b): ii"
      ]
    },
    {
      "cell_type": "code",
      "metadata": {
        "id": "Z09oDUEercgN",
        "colab_type": "code",
        "outputId": "878ee0fa-fb6f-451f-e4ef-f25b5f94ef31",
        "colab": {
          "base_uri": "https://localhost:8080/",
          "height": 33
        }
      },
      "source": [
        "'''\n",
        "Q1 (b)ii\n",
        "Use QBC (Vote Entropy & KL divergence) with at least 5 committee members,\n",
        "to label points. Compare the two measure of disagreement.\n",
        "'''"
      ],
      "execution_count": 0,
      "outputs": [
        {
          "output_type": "execute_result",
          "data": {
            "text/plain": [
              "'\\nQ1 (b)ii\\nUse QBC (Vote Entropy & KL divergence) with at least 5 committee members,\\nto label points. Compare the two measure of disagreement.\\n'"
            ]
          },
          "metadata": {
            "tags": []
          },
          "execution_count": 1
        }
      ]
    },
    {
      "cell_type": "markdown",
      "metadata": {
        "id": "VQ2JvyP4r4or",
        "colab_type": "text"
      },
      "source": [
        "\n",
        "\n",
        "\n",
        "---\n",
        "\n",
        "\n",
        "In the following segment, we develop the two QUERY BY COMMITTEE approaches:\n",
        "*   Vote Entropy\n",
        "*   KL Divergence\n",
        "\n",
        "Our Committe consists of **5 Bagging Classifiers**\n",
        "\n",
        "---\n",
        "\n",
        "\n",
        "\n",
        "\n",
        "\n",
        "After this, we have shown a comparison among the above three technques on the basis of the following metrics tested on test data:\n",
        "*   Accuracy\n",
        "*   Precision Score\n",
        "*   F1 Score\n",
        "---\n",
        "\n",
        "\n",
        "Please note that we shall be using **SVM classifier** for our classification purposes!\n",
        "\n",
        "\n",
        "---\n",
        "\n",
        "\n"
      ]
    },
    {
      "cell_type": "code",
      "metadata": {
        "id": "_bbwpDhgryqk",
        "colab_type": "code",
        "outputId": "dbe914ca-f446-44f4-b03a-fe422b17a1cd",
        "colab": {
          "base_uri": "https://localhost:8080/",
          "height": 70
        }
      },
      "source": [
        "import numpy as np \n",
        "import pandas as pd \n",
        "import math\n",
        "from statistics import mean \n",
        "from sklearn.preprocessing import StandardScaler  \n",
        "from sklearn.ensemble import BaggingClassifier\n",
        "from sklearn.svm import SVC\n",
        "from sklearn.model_selection import train_test_split \n",
        "from sklearn import datasets\n",
        "from scipy.stats import entropy\n",
        "from time import time\n",
        "import seaborn as sns; sns.set()\n",
        "import matplotlib.pyplot as plt\n",
        "from sklearn import metrics\n",
        "\n",
        "from warnings import simplefilter\n",
        "# ignore all future warnings\n",
        "simplefilter(action='ignore', category=FutureWarning)"
      ],
      "execution_count": 1,
      "outputs": [
        {
          "output_type": "stream",
          "text": [
            "/usr/local/lib/python3.6/dist-packages/statsmodels/tools/_testing.py:19: FutureWarning: pandas.util.testing is deprecated. Use the functions in the public API at pandas.testing instead.\n",
            "  import pandas.util.testing as tm\n"
          ],
          "name": "stderr"
        }
      ]
    },
    {
      "cell_type": "code",
      "metadata": {
        "id": "k1bPmKsIsW7g",
        "colab_type": "code",
        "colab": {}
      },
      "source": [
        "# split dataset into test set, train set and unlabel pool \n",
        "\n",
        "def split(dataset, train_size, test_size): \n",
        "\tx = dataset[:, :-1] \n",
        "\ty = dataset[:, -1] \n",
        "\tx_train, x_pool, y_train, y_pool = train_test_split( \n",
        "\t\tx, y, train_size = train_size) \n",
        "\tunlabel, x_test, label, y_test = train_test_split( \n",
        "\t\tx_pool, y_pool, test_size = test_size) \n",
        "\treturn x_train, y_train, x_test, y_test, unlabel, label"
      ],
      "execution_count": 0,
      "outputs": []
    },
    {
      "cell_type": "code",
      "metadata": {
        "id": "SOnBeRglsXqU",
        "colab_type": "code",
        "colab": {}
      },
      "source": [
        "# Function defining both the QBC sampling approaches\n",
        "\n",
        "def qbc_sampling(name, unlabel, percent_of_samples, dataset, x_train, y_train):\n",
        "\n",
        "    # We are using BAGGING TECHNIQUE for forming our Committee\n",
        "\n",
        "    #################################################################################\n",
        "    clf1 = BaggingClassifier(base_estimator=SVC(), n_estimators=10, random_state=0)    \n",
        "    clf1.fit(x_train, y_train)\n",
        "    clf1_pred = clf1.predict(unlabel)\n",
        "\n",
        "    clf2 = BaggingClassifier(base_estimator=SVC(), n_estimators=20, random_state=0)    \n",
        "    clf2.fit(x_train, y_train)\n",
        "    clf2_pred = clf2.predict(unlabel)\n",
        "\n",
        "    clf3 = BaggingClassifier(base_estimator=SVC(), n_estimators=30, random_state=0)    \n",
        "    clf3.fit(x_train, y_train)\n",
        "    clf3_pred = clf3.predict(unlabel)\n",
        "\n",
        "    clf4 = BaggingClassifier(base_estimator=SVC(), n_estimators=40, random_state=0)    \n",
        "    clf4.fit(x_train, y_train)\n",
        "    clf4_pred = clf4.predict(unlabel)\n",
        "\n",
        "    clf5 = BaggingClassifier(base_estimator=SVC(), n_estimators=50, random_state=0)    \n",
        "    clf5.fit(x_train, y_train)\n",
        "    clf5_pred = clf5.predict(unlabel)\n",
        "\n",
        "    # #Classifier 1: Logistic Regression\n",
        "    # from sklearn.linear_model import LogisticRegression\n",
        "    # clf1 = LogisticRegression() \n",
        "    # #x_train, y_train, x_test, y_test, unlabel, label = split( dataset, 0.10, 0.20)\n",
        "    # clf1.fit(x_train, y_train)\n",
        "    # clf1_pred = clf1.predict(unlabel)\n",
        "\n",
        "    # #Classifier 2: RandomForestClassifier\n",
        "    # from sklearn.ensemble import RandomForestClassifier\n",
        "    # clf2 = RandomForestClassifier(n_estimators=10) \n",
        "    # #x_train, y_train, x_test, y_test, unlabel, label = split( dataset, 0.10, 0.20)\n",
        "    # clf2.fit(x_train, y_train)\n",
        "    # clf2_pred = clf2.predict(unlabel)\n",
        "\n",
        "    # #Classifier 3: AdaBoostClassifier\n",
        "    # from sklearn.ensemble import AdaBoostClassifier\n",
        "    # clf3 = AdaBoostClassifier(n_estimators=100) \n",
        "    # #x_train, y_train, x_test, y_test, unlabel, label = split( dataset, 0.10, 0.20)\n",
        "    # clf3.fit(x_train, y_train)\n",
        "    # clf3_pred = clf3.predict(unlabel)\n",
        "\n",
        "    # #Classifier 4: BaggingClassifier\n",
        "    # clf4 = BaggingClassifier(base_estimator=SVC(), n_estimators=20, random_state=0)    \n",
        "    # #x_train, y_train, x_test, y_test, unlabel, label = split( dataset, 0.10, 0.20)\n",
        "    # clf4.fit(x_train, y_train)\n",
        "    # clf4_pred = clf4.predict(unlabel)\n",
        "\n",
        "    # #Classifier 5: GradientBoostingClassifier\n",
        "    # from sklearn.ensemble import GradientBoostingClassifier \n",
        "    # clf5 = GradientBoostingClassifier(random_state=0)\n",
        "    # #x_train, y_train, x_test, y_test, unlabel, label = split( dataset, 0.10, 0.20)\n",
        "    # clf5.fit(x_train, y_train)\n",
        "    # clf5_pred = clf5.predict(unlabel)\n",
        "\n",
        "\n",
        "\n",
        "    #################################################################################\n",
        "\n",
        "    if name == 'vote_entropy':\n",
        "        \n",
        "        votes = []\n",
        "        votes_prob = []\n",
        "        for i in range(clf4_pred.shape[0]):\n",
        "            temp = []\n",
        "            temp.append(clf1_pred[i])\n",
        "            temp.append(clf2_pred[i])\n",
        "            temp.append(clf3_pred[i])\n",
        "            temp.append(clf4_pred[i])\n",
        "            temp.append(clf5_pred[i])\n",
        "\n",
        "            votes.append(temp)\n",
        "\n",
        "            temp_p = []\n",
        "            for m in range(10):\n",
        "                temp_p.append(votes[i].count(m) / len(votes[i]))\n",
        "\n",
        "            votes_prob.append(temp_p)\n",
        "\n",
        "        votes = []\n",
        "        votes_prob = []\n",
        "        for i in range(clf4_pred.shape[0]):\n",
        "            temp = []\n",
        "            temp.append(clf1_pred[i])\n",
        "            temp.append(clf2_pred[i])\n",
        "            temp.append(clf3_pred[i])\n",
        "            temp.append(clf4_pred[i])\n",
        "            temp.append(clf5_pred[i])\n",
        "\n",
        "            votes.append(temp)\n",
        "\n",
        "            temp_p = []\n",
        "            for m in range(10):\n",
        "                temp_p.append(votes[i].count(m) / len(votes[i]))\n",
        "\n",
        "            votes_prob.append(temp_p)\n",
        "\n",
        "        from scipy.stats import entropy\n",
        "        entr = entropy(np.array(votes_prob).T)\n",
        "        sorted_idx = np.argsort(entr)\n",
        "        #print('Probability distribution of Top 5 Selection through ENTROPY: \\n')\n",
        "        #for i in range(1,6):\n",
        "            #print(\"Selection #\" + str(i) + ': ' + str(votes[sorted_idx[len(entr) - i]]) + '\\n')\n",
        "        uncrt_pt_ind = [] \n",
        "        for i in range(math.floor(percent_of_samples * 0.01 * dataset.shape[0])):\n",
        "                uncrt_pt_ind.append(sorted_idx[-i-1])\n",
        "\n",
        "        return uncrt_pt_ind\n",
        "\n",
        "    if name == 'kl_divergence':\n",
        "        proba_votes = []\n",
        "        proba_votes.append(clf1.predict_proba(unlabel))\n",
        "        proba_votes.append(clf2.predict_proba(unlabel))\n",
        "        proba_votes.append(clf3.predict_proba(unlabel))\n",
        "        proba_votes.append(clf4.predict_proba(unlabel))\n",
        "        proba_votes.append(clf5.predict_proba(unlabel))\n",
        "\n",
        "        consensus_proba = (proba_votes[0] + proba_votes[1] + proba_votes[2] + proba_votes[3] + proba_votes[4]) / len(proba_votes)\n",
        "\n",
        "        from scipy.stats import entropy\n",
        "        learner_KL_div = []\n",
        "        for i in range(proba_votes[1].shape[0]):\n",
        "            temp = []\n",
        "            \n",
        "            for j in range(len(proba_votes)):\n",
        "                temp.append(entropy(proba_votes[j][i], qk= consensus_proba[i]))\n",
        "\n",
        "            learner_KL_div.append(temp)\n",
        "\n",
        "        kl_max = np.array(learner_KL_div).max(axis=1)\n",
        "        #print('Size of kl_max= '+str(kl_max.shape))\n",
        "        #print('Size of unlabel= ' + str(unlabel.shape))\n",
        "        sorted_idx = np.argsort(kl_max)\n",
        "        #print('Probability distribution of Top 5 Selection through LEAST CONFIDENCE: \\n')\n",
        "        #for i in range(1,6):\n",
        "            #print(\"Selection #\" + str(i) + ': ' + str(proba[sorted_idx[i-1]]) + '\\n')\n",
        "\n",
        "        uncrt_pt_ind = [] \n",
        "        for i in range(math.floor(percent_of_samples * 0.01 * dataset.shape[0])):\n",
        "            uncrt_pt_ind.append(sorted_idx[-i-1])\n",
        "\n",
        "        return uncrt_pt_ind\n",
        "\n",
        "\n"
      ],
      "execution_count": 0,
      "outputs": []
    },
    {
      "cell_type": "code",
      "metadata": {
        "id": "eVQFqdlctupU",
        "colab_type": "code",
        "colab": {}
      },
      "source": [
        "# Loading dataset\n",
        "X_digits, y_digits = datasets.load_digits(return_X_y=True)\n",
        "stack = np.vstack((X_digits.T, y_digits.T))\n",
        "dataset = stack.T\n",
        "\n",
        "# feature scalling \n",
        "sc = StandardScaler() \n",
        "dataset[:, :-1] = sc.fit_transform(dataset[:, :-1]) \n"
      ],
      "execution_count": 0,
      "outputs": []
    },
    {
      "cell_type": "markdown",
      "metadata": {
        "id": "NBGCoJGqt1Pk",
        "colab_type": "text"
      },
      "source": [
        "1. VOTE ENTROPY"
      ]
    },
    {
      "cell_type": "code",
      "metadata": {
        "id": "Qt8fyyjDtxg8",
        "colab_type": "code",
        "outputId": "38bf28ce-1cfe-4553-db6f-8e4e46cee7b7",
        "colab": {
          "base_uri": "https://localhost:8080/",
          "height": 67
        }
      },
      "source": [
        "#############################################################################################\n",
        "sampling_name = 'vote_entropy'\n",
        "percent_of_samples = 10\n",
        "train_size = 0.10\n",
        "test_size = 0.20\n",
        "\n",
        "############################################################################################\n",
        "\n",
        "############################################################################################\n",
        "# run the model 10 times and take the average of its accuracies, precision_score & f1_score \n",
        "accuracy1 = []\n",
        "prec_score1 = []\n",
        "f1_score1 = []\n",
        "\n",
        "for i in range(10): \n",
        "\n",
        "    # split dataset into train(10 %), test(20 %), unlabel(70 %) \n",
        "    x_train, y_train, x_test, y_test, unlabel, label = split(dataset, train_size, test_size) \n",
        "\n",
        "    # train model by active learning by labelling the extra 10% datapoints\n",
        "    for i in range(1): \n",
        "        classifier1 = SVC(decision_function_shape='ovo', probability = True)\n",
        "        classifier1.fit(x_train, y_train) \n",
        "        y_probab = classifier1.predict_proba(unlabel)[:, 0] \n",
        "\n",
        "        # Obtaining the required unlabelled data points for labelling by Oracle\n",
        "        uncrt_pt_ind = qbc_sampling(sampling_name, unlabel, percent_of_samples, dataset, x_train, y_train)\n",
        "        \n",
        "        # Appending the newly labelled data points into the training set\n",
        "        x_train = np.append(unlabel[uncrt_pt_ind, :], x_train, axis = 0) \n",
        "        proba_chosen_samples =  classifier1.predict_proba(unlabel[uncrt_pt_ind, :])\n",
        "        y_train = np.append(label[uncrt_pt_ind], y_train)\n",
        "\n",
        "        # Deleting the newly labelled data points from the unlabelled pool\n",
        "        unlabel = np.delete(unlabel, uncrt_pt_ind, axis = 0) \n",
        "        label = np.delete(label, uncrt_pt_ind) \n",
        "\n",
        "    # Running final classification model for the new training data set\n",
        "    classifier2 = SVC(decision_function_shape='ovo', probability = True)\n",
        "    classifier2.fit(x_train, y_train) \n",
        "\n",
        "    # Obtaining the performance of the final ACTIVE LEARNING MODEL\n",
        "    accuracy1.append(classifier2.score(x_test, y_test)) \n",
        "    prec_score1.append(metrics.precision_score(classifier2.predict(x_test), y_test, average = 'macro')) \n",
        "    f1_score1.append(metrics.f1_score(classifier2.predict(x_test), y_test, average = 'macro')) \n",
        "\n",
        "############################################################################################\n",
        "\n",
        "\n",
        "############################################################################################\n",
        "# Printing the performace of the ACTIVE LEARNING MODEL\n",
        "print(\"Accuracy by ACTIVE MODEL [with Vote Entropy Sampling] :\", mean(accuracy1)*100) \n",
        "print(\"Precision Score by ACTIVE MODEL [with Vote Entropy Sampling] :\", mean(prec_score1))\n",
        "print(\"F1 Score by ACTIVE MODEL [with Vote Entropy Sampling] :\", mean(f1_score1)) \n",
        "\n",
        "############################################################################################"
      ],
      "execution_count": 5,
      "outputs": [
        {
          "output_type": "stream",
          "text": [
            "Accuracy by ACTIVE MODEL [with Vote Entropy Sampling] : 95.74074074074073\n",
            "Precision Score by ACTIVE MODEL [with Vote Entropy Sampling] : 0.9570870347362678\n",
            "F1 Score by ACTIVE MODEL [with Vote Entropy Sampling] : 0.9569425319273821\n"
          ],
          "name": "stdout"
        }
      ]
    },
    {
      "cell_type": "code",
      "metadata": {
        "id": "4FxlPcD4vUuu",
        "colab_type": "code",
        "outputId": "854cb038-4055-48c8-d846-f7141ba141df",
        "colab": {
          "base_uri": "https://localhost:8080/",
          "height": 301
        }
      },
      "source": [
        "print('The probablity distributions of top 5 samples chosen by KL DIVEREGENCE are: \\n')\n",
        "print('Selection# 1: ' + str(proba_chosen_samples[0]) + '\\n')\n",
        "print('Selection# 2: ' + str(proba_chosen_samples[1]) + '\\n')\n",
        "print('Selection# 3: ' + str(proba_chosen_samples[2]) + '\\n')\n",
        "print('Selection# 4: ' + str(proba_chosen_samples[3]) + '\\n')\n",
        "print('Selection# 5: ' + str(proba_chosen_samples[4]) + '\\n')"
      ],
      "execution_count": 6,
      "outputs": [
        {
          "output_type": "stream",
          "text": [
            "The probablity distributions of top 5 samples chosen by KL DIVEREGENCE are: \n",
            "\n",
            "Selection# 1: [0.01038404 0.01412414 0.0099214  0.06733738 0.00859553 0.43521068\n",
            " 0.01334406 0.01047738 0.036424   0.39418139]\n",
            "\n",
            "Selection# 2: [0.01554879 0.09600042 0.28057034 0.05105514 0.00975527 0.04083111\n",
            " 0.02173691 0.02788787 0.38512944 0.07148473]\n",
            "\n",
            "Selection# 3: [0.02117896 0.05787981 0.05485185 0.19585957 0.02509854 0.05605021\n",
            " 0.02660885 0.28880538 0.19087259 0.08279426]\n",
            "\n",
            "Selection# 4: [0.02386208 0.06461985 0.10701404 0.20378256 0.06142887 0.11481478\n",
            " 0.06962832 0.12453526 0.08192645 0.14838778]\n",
            "\n",
            "Selection# 5: [0.01651319 0.34091398 0.07775933 0.01701809 0.01757292 0.03674179\n",
            " 0.08131113 0.01876978 0.36686167 0.02653811]\n",
            "\n"
          ],
          "name": "stdout"
        }
      ]
    },
    {
      "cell_type": "code",
      "metadata": {
        "id": "rkrCFpURqoDB",
        "colab_type": "code",
        "colab": {}
      },
      "source": [
        ""
      ],
      "execution_count": 0,
      "outputs": []
    },
    {
      "cell_type": "markdown",
      "metadata": {
        "id": "vs3a9cFVudf0",
        "colab_type": "text"
      },
      "source": [
        "2. KL DIVERGENCE"
      ]
    },
    {
      "cell_type": "code",
      "metadata": {
        "id": "pabiBypXucNH",
        "colab_type": "code",
        "outputId": "797994b4-c83f-4e0c-f19c-379e8abe9463",
        "colab": {
          "base_uri": "https://localhost:8080/",
          "height": 67
        }
      },
      "source": [
        "#############################################################################################\n",
        "sampling_name = 'kl_divergence'\n",
        "percent_of_samples = 10\n",
        "train_size = 0.10\n",
        "test_size = 0.20\n",
        "\n",
        "############################################################################################\n",
        "\n",
        "############################################################################################\n",
        "# run the model 10 times and take the average of its accuracies, precision_score & f1_score \n",
        "accuracy2 = []\n",
        "prec_score2 = []\n",
        "f1_score2 = []\n",
        "\n",
        "for i in range(10): \n",
        "\n",
        "    # split dataset into train(10 %), test(20 %), unlabel(70 %) \n",
        "    x_train, y_train, x_test, y_test, unlabel, label = split(dataset, train_size, test_size) \n",
        "\n",
        "    # train model by active learning by labelling the extra 10% data points\n",
        "    for i in range(1): \n",
        "        classifier1 = SVC(decision_function_shape='ovo', probability = True)\n",
        "        classifier1.fit(x_train, y_train) \n",
        "        y_probab = classifier1.predict_proba(unlabel)[:, 0] \n",
        "\n",
        "        # Obtaining the required unlabelled data points for labelling by Oracle\n",
        "        uncrt_pt_ind = qbc_sampling(sampling_name, unlabel, percent_of_samples, dataset, x_train, y_train)\n",
        "        \n",
        "        # Appending the newly labelled data points into the training set\n",
        "        x_train = np.append(unlabel[uncrt_pt_ind, :], x_train, axis = 0) \n",
        "        proba_chosen_samples =  classifier1.predict_proba(unlabel[uncrt_pt_ind, :])\n",
        "        y_train = np.append(label[uncrt_pt_ind], y_train)\n",
        "\n",
        "        # Deleting the newly labelled data points from the unlabelled pool\n",
        "        unlabel = np.delete(unlabel, uncrt_pt_ind, axis = 0) \n",
        "        label = np.delete(label, uncrt_pt_ind) \n",
        "\n",
        "    # Running final classification model for the new training data set\n",
        "    classifier2 = SVC(decision_function_shape='ovo', probability = True)\n",
        "    classifier2.fit(x_train, y_train) \n",
        "\n",
        "    # Obtaining the performance of the final ACTIVE LEARNING MODEL\n",
        "    accuracy2.append(classifier2.score(x_test, y_test)) \n",
        "    prec_score2.append(metrics.precision_score(classifier2.predict(x_test), y_test, average = 'macro')) \n",
        "    f1_score2.append(metrics.f1_score(classifier2.predict(x_test), y_test, average = 'macro')) \n",
        "\n",
        "############################################################################################\n",
        "\n",
        "############################################################################################\n",
        "# Printing the performace of the ACTIVE LEARNING MODEL\n",
        "print(\"Accuracy by ACTIVE MODEL [with KL Divergence Sampling] :\", mean(accuracy2)*100) \n",
        "print(\"Precision Score by ACTIVE MODEL [with KL Divergence Sampling] :\", mean(prec_score2))\n",
        "print(\"F1 Score by ACTIVE MODEL [with KL Divergence Sampling] :\", mean(f1_score2)) \n",
        "\n",
        "############################################################################################\n"
      ],
      "execution_count": 7,
      "outputs": [
        {
          "output_type": "stream",
          "text": [
            "Accuracy by ACTIVE MODEL [with KL Divergence Sampling] : 96.72839506172839\n",
            "Precision Score by ACTIVE MODEL [with KL Divergence Sampling] : 0.9673787235041467\n",
            "F1 Score by ACTIVE MODEL [with KL Divergence Sampling] : 0.9673322242030087\n"
          ],
          "name": "stdout"
        }
      ]
    },
    {
      "cell_type": "code",
      "metadata": {
        "id": "w_W72NrNvTRe",
        "colab_type": "code",
        "outputId": "a88bb371-36fd-4f00-958a-9b24916ec5ba",
        "colab": {
          "base_uri": "https://localhost:8080/",
          "height": 301
        }
      },
      "source": [
        "print('The probablity distributions of top 5 samples chosen by KL DIVEREGENCE are: \\n')\n",
        "print('Selection# 1: ' + str(proba_chosen_samples[0]) + '\\n')\n",
        "print('Selection# 2: ' + str(proba_chosen_samples[1]) + '\\n')\n",
        "print('Selection# 3: ' + str(proba_chosen_samples[2]) + '\\n')\n",
        "print('Selection# 4: ' + str(proba_chosen_samples[3]) + '\\n')\n",
        "print('Selection# 5: ' + str(proba_chosen_samples[4]) + '\\n')"
      ],
      "execution_count": 8,
      "outputs": [
        {
          "output_type": "stream",
          "text": [
            "The probablity distributions of top 5 samples chosen by KL DIVEREGENCE are: \n",
            "\n",
            "Selection# 1: [0.01603256 0.15925069 0.26328506 0.09022691 0.03342947 0.04652382\n",
            " 0.10962284 0.02024364 0.14222587 0.11915915]\n",
            "\n",
            "Selection# 2: [0.24237853 0.04091117 0.03230081 0.03972398 0.20048615 0.16107392\n",
            " 0.14546312 0.02989195 0.0369278  0.07084256]\n",
            "\n",
            "Selection# 3: [0.07523199 0.07229285 0.09258063 0.23607977 0.05448741 0.17963183\n",
            " 0.01592621 0.0835178  0.05619003 0.13406148]\n",
            "\n",
            "Selection# 4: [0.01303861 0.02557184 0.02342425 0.01712683 0.07378552 0.03826316\n",
            " 0.00883809 0.14733341 0.11029031 0.54232798]\n",
            "\n",
            "Selection# 5: [0.04384589 0.09753146 0.0788014  0.03949962 0.18640385 0.07904787\n",
            " 0.02341956 0.27440505 0.0387254  0.13831989]\n",
            "\n"
          ],
          "name": "stdout"
        }
      ]
    },
    {
      "cell_type": "code",
      "metadata": {
        "id": "-EjxYgx1qkFQ",
        "colab_type": "code",
        "colab": {}
      },
      "source": [
        ""
      ],
      "execution_count": 0,
      "outputs": []
    },
    {
      "cell_type": "markdown",
      "metadata": {
        "id": "ImWzVhyXu3XK",
        "colab_type": "text"
      },
      "source": [
        "COMPARISION OF THE QBC SAMPLING APPROACHES \n",
        "(after sampling 10% data points)"
      ]
    },
    {
      "cell_type": "code",
      "metadata": {
        "id": "_FPW-r2UuzoT",
        "colab_type": "code",
        "colab": {}
      },
      "source": [
        "compare = pd.DataFrame({\n",
        "    'Method': ['Vote_Entropy', 'KL_Divergence'],\n",
        "    'Accuracy': [float(\"%0.4f\" % (mean(accuracy1))), float(\"%0.4f\" % (mean(accuracy2)))],\n",
        "    'F1_Score': [float(\"%0.4f\" % (mean(f1_score1))), float(\"%0.4f\" % (mean(f1_score2)))],\n",
        "    'Precision_Score': [float(\"%0.4f\" % (mean(prec_score1))), float(\"%0.4f\" % (mean(prec_score2)))]\n",
        "})"
      ],
      "execution_count": 0,
      "outputs": []
    },
    {
      "cell_type": "code",
      "metadata": {
        "id": "yTKRSI_7vHiG",
        "colab_type": "code",
        "outputId": "c9c7d268-d10a-4577-d6a9-7e1cdabe67fa",
        "colab": {
          "base_uri": "https://localhost:8080/",
          "height": 100
        }
      },
      "source": [
        "print('Comparison of the two QBC Sampling Approaches after additional 10% sampling: \\n')\n",
        "print(compare)"
      ],
      "execution_count": 10,
      "outputs": [
        {
          "output_type": "stream",
          "text": [
            "Comparison of the two QBC Sampling Approaches after additional 10% sampling: \n",
            "\n",
            "          Method  Accuracy  F1_Score  Precision_Score\n",
            "0   Vote_Entropy    0.9574    0.9569           0.9571\n",
            "1  KL_Divergence    0.9673    0.9673           0.9674\n"
          ],
          "name": "stdout"
        }
      ]
    },
    {
      "cell_type": "code",
      "metadata": {
        "id": "3376mxvx9zvs",
        "colab_type": "code",
        "outputId": "cae718a7-4d02-47b2-89f3-2a9f29d2a47c",
        "colab": {
          "base_uri": "https://localhost:8080/",
          "height": 751
        }
      },
      "source": [
        "# COMPARISON VISUALIZATION\n",
        "\n",
        "acc = []\n",
        "name = []\n",
        "labelled_samples_percent = []\n",
        "percent_of_samples = 10\n",
        "train_size = 0.10\n",
        "test_size = 0.20\n",
        "\n",
        "X_train, Y_train, X_test, Y_test, Unlabel, Label = split(dataset, train_size, test_size)\n",
        "\n",
        "for sampling_name in ['vote_entropy', 'kl_divergence']:\n",
        "\n",
        "    for i in range(1): \n",
        "\n",
        "        # Assigning x_train, x_test, y_train, y_test, unabel & label \n",
        "        x_train, y_train, x_test, y_test, unlabel, label =  X_train, Y_train, X_test, Y_test, Unlabel, Label \n",
        "\n",
        "        # train model by active learning by labelling the extra 10% data points with each loop (4 loops = 40% data)\n",
        "        for i in range(4): \n",
        "            classifier1 = SVC(decision_function_shape='ovo', probability = True)\n",
        "            classifier1.fit(x_train, y_train) \n",
        "            \n",
        "            ###############################################################################\n",
        "            acc.append(classifier1.score(x_test, y_test)) \n",
        "            labelled_samples_percent.append((i+1)*10)\n",
        "            name.append(sampling_name)\n",
        "            ###############################################################################\n",
        "\n",
        "            y_probab = classifier1.predict_proba(unlabel)[:, 0] \n",
        "\n",
        "            # Obtaining the required unlabelled data points for labelling by Oracle\n",
        "            uncrt_pt_ind = qbc_sampling(sampling_name, unlabel, percent_of_samples, dataset, x_train, y_train)\n",
        "            \n",
        "            # Appending the newly labelled data points into the training set\n",
        "            x_train = np.append(unlabel[uncrt_pt_ind, :], x_train, axis = 0) \n",
        "            y_train = np.append(label[uncrt_pt_ind], y_train)\n",
        "\n",
        "            # Deleting the newly labelled data points from the unlabelled pool\n",
        "            unlabel = np.delete(unlabel, uncrt_pt_ind, axis = 0) \n",
        "            label = np.delete(label, uncrt_pt_ind) \n",
        "\n",
        "            # Running final classification model for the new training data set\n",
        "            classifier2 = SVC(decision_function_shape='ovo', probability = True)\n",
        "            classifier2.fit(x_train, y_train) \n",
        "\n",
        "        ###############################################################################\n",
        "        acc.append(classifier2.score(x_test, y_test)) \n",
        "        labelled_samples_percent.append((i+2)*10)\n",
        "        name.append(sampling_name)\n",
        "        ###############################################################################\n",
        "\n",
        "            \n",
        "# Creating a DataFrame for data visualization:\n",
        "data_viz = pd.DataFrame({\n",
        "    'Sampling_Name': name,\n",
        "    'Percent_Labelled_Samples': labelled_samples_percent,\n",
        "    'Accuracy': acc\n",
        "})\n",
        "\n",
        "print('Comparison of the two QBC Sampling Techniques after each iteration of 10% Sampling: \\n')\n",
        "print(data_viz)\n",
        "print()\n",
        "\n",
        "a4_dims = (11.7, 8.27)\n",
        "fig, ax = plt.subplots(figsize=a4_dims)\n",
        "\n",
        "ax = sns.lineplot(x=\"Percent_Labelled_Samples\", y=\"Accuracy\",\n",
        "                  hue=\"Sampling_Name\", style=\"Sampling_Name\",\n",
        "                  markers=True, dashes=False, data=data_viz)"
      ],
      "execution_count": 11,
      "outputs": [
        {
          "output_type": "stream",
          "text": [
            "Comparison of the two QBC Sampling Techniques after each iteration of 10% Sampling: \n",
            "\n",
            "   Sampling_Name  Percent_Labelled_Samples  Accuracy\n",
            "0   vote_entropy                        10  0.895062\n",
            "1   vote_entropy                        20  0.944444\n",
            "2   vote_entropy                        30  0.981481\n",
            "3   vote_entropy                        40  0.978395\n",
            "4   vote_entropy                        50  0.984568\n",
            "5  kl_divergence                        10  0.895062\n",
            "6  kl_divergence                        20  0.972222\n",
            "7  kl_divergence                        30  0.981481\n",
            "8  kl_divergence                        40  0.975309\n",
            "9  kl_divergence                        50  0.981481\n",
            "\n"
          ],
          "name": "stdout"
        },
        {
          "output_type": "display_data",
          "data": {
            "image/png": "[encoded data removed]",
            "text/plain": [
              "<Figure size 842.4x595.44 with 1 Axes>"
            ]
          },
          "metadata": {
            "tags": [],
            "needs_background": "light"
          }
        }
      ]
    },
    {
      "cell_type": "code",
      "metadata": {
        "id": "mT5Pdh8bGm_k",
        "colab_type": "code",
        "outputId": "f7d021c8-a24a-433d-cea2-d94e116dc227",
        "colab": {
          "base_uri": "https://localhost:8080/",
          "height": 379
        }
      },
      "source": [
        "print('Comparison of the two QBC Sampling Techniques after each iteration of 10% Sampling: \\n')\n",
        "\n",
        "data_viz"
      ],
      "execution_count": 12,
      "outputs": [
        {
          "output_type": "stream",
          "text": [
            "Comparison of the two QBC Sampling Techniques after each iteration of 10% Sampling: \n",
            "\n"
          ],
          "name": "stdout"
        },
        {
          "output_type": "execute_result",
          "data": {
            "text/html": [
              "<div>\n",
              "<style scoped>\n",
              "    .dataframe tbody tr th:only-of-type {\n",
              "        vertical-align: middle;\n",
              "    }\n",
              "\n",
              "    .dataframe tbody tr th {\n",
              "        vertical-align: top;\n",
              "    }\n",
              "\n",
              "    .dataframe thead th {\n",
              "        text-align: right;\n",
              "    }\n",
              "</style>\n",
              "<table border=\"1\" class=\"dataframe\">\n",
              "  <thead>\n",
              "    <tr style=\"text-align: right;\">\n",
              "      <th></th>\n",
              "      <th>Sampling_Name</th>\n",
              "      <th>Percent_Labelled_Samples</th>\n",
              "      <th>Accuracy</th>\n",
              "    </tr>\n",
              "  </thead>\n",
              "  <tbody>\n",
              "    <tr>\n",
              "      <th>0</th>\n",
              "      <td>vote_entropy</td>\n",
              "      <td>10</td>\n",
              "      <td>0.895062</td>\n",
              "    </tr>\n",
              "    <tr>\n",
              "      <th>1</th>\n",
              "      <td>vote_entropy</td>\n",
              "      <td>20</td>\n",
              "      <td>0.944444</td>\n",
              "    </tr>\n",
              "    <tr>\n",
              "      <th>2</th>\n",
              "      <td>vote_entropy</td>\n",
              "      <td>30</td>\n",
              "      <td>0.981481</td>\n",
              "    </tr>\n",
              "    <tr>\n",
              "      <th>3</th>\n",
              "      <td>vote_entropy</td>\n",
              "      <td>40</td>\n",
              "      <td>0.978395</td>\n",
              "    </tr>\n",
              "    <tr>\n",
              "      <th>4</th>\n",
              "      <td>vote_entropy</td>\n",
              "      <td>50</td>\n",
              "      <td>0.984568</td>\n",
              "    </tr>\n",
              "    <tr>\n",
              "      <th>5</th>\n",
              "      <td>kl_divergence</td>\n",
              "      <td>10</td>\n",
              "      <td>0.895062</td>\n",
              "    </tr>\n",
              "    <tr>\n",
              "      <th>6</th>\n",
              "      <td>kl_divergence</td>\n",
              "      <td>20</td>\n",
              "      <td>0.972222</td>\n",
              "    </tr>\n",
              "    <tr>\n",
              "      <th>7</th>\n",
              "      <td>kl_divergence</td>\n",
              "      <td>30</td>\n",
              "      <td>0.981481</td>\n",
              "    </tr>\n",
              "    <tr>\n",
              "      <th>8</th>\n",
              "      <td>kl_divergence</td>\n",
              "      <td>40</td>\n",
              "      <td>0.975309</td>\n",
              "    </tr>\n",
              "    <tr>\n",
              "      <th>9</th>\n",
              "      <td>kl_divergence</td>\n",
              "      <td>50</td>\n",
              "      <td>0.981481</td>\n",
              "    </tr>\n",
              "  </tbody>\n",
              "</table>\n",
              "</div>"
            ],
            "text/plain": [
              "   Sampling_Name  Percent_Labelled_Samples  Accuracy\n",
              "0   vote_entropy                        10  0.895062\n",
              "1   vote_entropy                        20  0.944444\n",
              "2   vote_entropy                        30  0.981481\n",
              "3   vote_entropy                        40  0.978395\n",
              "4   vote_entropy                        50  0.984568\n",
              "5  kl_divergence                        10  0.895062\n",
              "6  kl_divergence                        20  0.972222\n",
              "7  kl_divergence                        30  0.981481\n",
              "8  kl_divergence                        40  0.975309\n",
              "9  kl_divergence                        50  0.981481"
            ]
          },
          "metadata": {
            "tags": []
          },
          "execution_count": 12
        }
      ]
    },
    {
      "cell_type": "markdown",
      "metadata": {
        "id": "wwisVeVuGdQU",
        "colab_type": "text"
      },
      "source": [
        "END OF Q1(b)ii"
      ]
    }
  ]
}